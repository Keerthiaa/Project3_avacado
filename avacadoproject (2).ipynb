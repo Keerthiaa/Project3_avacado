{
 "cells": [
  {
   "cell_type": "raw",
   "metadata": {},
   "source": [
    "The target is to predict average price of avacodos\n",
    "since its a continuous variable we can apply regression models for prediction\n",
    "but then this prediction is based on types of avacados in different region,he we apply classification model too"
   ]
  },
  {
   "cell_type": "code",
   "execution_count": 1,
   "metadata": {
    "scrolled": true
   },
   "outputs": [],
   "source": [
    "import datetime as dt\n",
    "\n",
    "import warnings\n",
    "warnings.filterwarnings('ignore')\n",
    "import pandas as pd\n",
    "import numpy as np\n",
    "import matplotlib.pyplot as plt\n",
    "%matplotlib inline\n",
    "import seaborn as sns\n",
    "import warnings\n",
    "warnings.filterwarnings('ignore')\n",
    "\n",
    "\n",
    "from sklearn.ensemble import RandomForestRegressor\n",
    "from sklearn.preprocessing import StandardScaler, LabelEncoder\n",
    "from sklearn.pipeline import Pipeline\n",
    "from sklearn.model_selection import train_test_split"
   ]
  },
  {
   "cell_type": "code",
   "execution_count": 2,
   "metadata": {
    "scrolled": true
   },
   "outputs": [],
   "source": [
    "import pandas as pd\n",
    "df=pd.read_csv('avocado_dataset.csv')"
   ]
  },
  {
   "cell_type": "code",
   "execution_count": 3,
   "metadata": {
    "scrolled": true
   },
   "outputs": [
    {
     "data": {
      "text/html": [
       "<div>\n",
       "<style scoped>\n",
       "    .dataframe tbody tr th:only-of-type {\n",
       "        vertical-align: middle;\n",
       "    }\n",
       "\n",
       "    .dataframe tbody tr th {\n",
       "        vertical-align: top;\n",
       "    }\n",
       "\n",
       "    .dataframe thead th {\n",
       "        text-align: right;\n",
       "    }\n",
       "</style>\n",
       "<table border=\"1\" class=\"dataframe\">\n",
       "  <thead>\n",
       "    <tr style=\"text-align: right;\">\n",
       "      <th></th>\n",
       "      <th>Unnamed: 0</th>\n",
       "      <th>Date</th>\n",
       "      <th>AveragePrice</th>\n",
       "      <th>Total Volume</th>\n",
       "      <th>4046</th>\n",
       "      <th>4225</th>\n",
       "      <th>4770</th>\n",
       "      <th>Total Bags</th>\n",
       "      <th>Small Bags</th>\n",
       "      <th>Large Bags</th>\n",
       "      <th>XLarge Bags</th>\n",
       "      <th>type</th>\n",
       "      <th>year</th>\n",
       "      <th>region</th>\n",
       "    </tr>\n",
       "  </thead>\n",
       "  <tbody>\n",
       "    <tr>\n",
       "      <th>0</th>\n",
       "      <td>0</td>\n",
       "      <td>12/27/2015</td>\n",
       "      <td>1.33</td>\n",
       "      <td>64236.62</td>\n",
       "      <td>1036.74</td>\n",
       "      <td>54454.85</td>\n",
       "      <td>48.16</td>\n",
       "      <td>8696.87</td>\n",
       "      <td>8603.62</td>\n",
       "      <td>93.25</td>\n",
       "      <td>0.0</td>\n",
       "      <td>conventional</td>\n",
       "      <td>2015</td>\n",
       "      <td>Albany</td>\n",
       "    </tr>\n",
       "    <tr>\n",
       "      <th>1</th>\n",
       "      <td>1</td>\n",
       "      <td>12/20/2015</td>\n",
       "      <td>1.35</td>\n",
       "      <td>54876.98</td>\n",
       "      <td>674.28</td>\n",
       "      <td>44638.81</td>\n",
       "      <td>58.33</td>\n",
       "      <td>9505.56</td>\n",
       "      <td>9408.07</td>\n",
       "      <td>97.49</td>\n",
       "      <td>0.0</td>\n",
       "      <td>conventional</td>\n",
       "      <td>2015</td>\n",
       "      <td>Albany</td>\n",
       "    </tr>\n",
       "    <tr>\n",
       "      <th>2</th>\n",
       "      <td>2</td>\n",
       "      <td>12/13/2015</td>\n",
       "      <td>0.93</td>\n",
       "      <td>118220.22</td>\n",
       "      <td>794.70</td>\n",
       "      <td>109149.67</td>\n",
       "      <td>130.50</td>\n",
       "      <td>8145.35</td>\n",
       "      <td>8042.21</td>\n",
       "      <td>103.14</td>\n",
       "      <td>0.0</td>\n",
       "      <td>conventional</td>\n",
       "      <td>2015</td>\n",
       "      <td>Albany</td>\n",
       "    </tr>\n",
       "    <tr>\n",
       "      <th>3</th>\n",
       "      <td>3</td>\n",
       "      <td>12/6/2015</td>\n",
       "      <td>1.08</td>\n",
       "      <td>78992.15</td>\n",
       "      <td>1132.00</td>\n",
       "      <td>71976.41</td>\n",
       "      <td>72.58</td>\n",
       "      <td>5811.16</td>\n",
       "      <td>5677.40</td>\n",
       "      <td>133.76</td>\n",
       "      <td>0.0</td>\n",
       "      <td>conventional</td>\n",
       "      <td>2015</td>\n",
       "      <td>Albany</td>\n",
       "    </tr>\n",
       "    <tr>\n",
       "      <th>4</th>\n",
       "      <td>4</td>\n",
       "      <td>11/29/2015</td>\n",
       "      <td>1.28</td>\n",
       "      <td>51039.60</td>\n",
       "      <td>941.48</td>\n",
       "      <td>43838.39</td>\n",
       "      <td>75.78</td>\n",
       "      <td>6183.95</td>\n",
       "      <td>5986.26</td>\n",
       "      <td>197.69</td>\n",
       "      <td>0.0</td>\n",
       "      <td>conventional</td>\n",
       "      <td>2015</td>\n",
       "      <td>Albany</td>\n",
       "    </tr>\n",
       "    <tr>\n",
       "      <th>...</th>\n",
       "      <td>...</td>\n",
       "      <td>...</td>\n",
       "      <td>...</td>\n",
       "      <td>...</td>\n",
       "      <td>...</td>\n",
       "      <td>...</td>\n",
       "      <td>...</td>\n",
       "      <td>...</td>\n",
       "      <td>...</td>\n",
       "      <td>...</td>\n",
       "      <td>...</td>\n",
       "      <td>...</td>\n",
       "      <td>...</td>\n",
       "      <td>...</td>\n",
       "    </tr>\n",
       "    <tr>\n",
       "      <th>18244</th>\n",
       "      <td>7</td>\n",
       "      <td>2/4/2018</td>\n",
       "      <td>1.63</td>\n",
       "      <td>17074.83</td>\n",
       "      <td>2046.96</td>\n",
       "      <td>1529.20</td>\n",
       "      <td>0.00</td>\n",
       "      <td>13498.67</td>\n",
       "      <td>13066.82</td>\n",
       "      <td>431.85</td>\n",
       "      <td>0.0</td>\n",
       "      <td>organic</td>\n",
       "      <td>2018</td>\n",
       "      <td>WestTexNewMexico</td>\n",
       "    </tr>\n",
       "    <tr>\n",
       "      <th>18245</th>\n",
       "      <td>8</td>\n",
       "      <td>1/28/2018</td>\n",
       "      <td>1.71</td>\n",
       "      <td>13888.04</td>\n",
       "      <td>1191.70</td>\n",
       "      <td>3431.50</td>\n",
       "      <td>0.00</td>\n",
       "      <td>9264.84</td>\n",
       "      <td>8940.04</td>\n",
       "      <td>324.80</td>\n",
       "      <td>0.0</td>\n",
       "      <td>organic</td>\n",
       "      <td>2018</td>\n",
       "      <td>WestTexNewMexico</td>\n",
       "    </tr>\n",
       "    <tr>\n",
       "      <th>18246</th>\n",
       "      <td>9</td>\n",
       "      <td>1/21/2018</td>\n",
       "      <td>1.87</td>\n",
       "      <td>13766.76</td>\n",
       "      <td>1191.92</td>\n",
       "      <td>2452.79</td>\n",
       "      <td>727.94</td>\n",
       "      <td>9394.11</td>\n",
       "      <td>9351.80</td>\n",
       "      <td>42.31</td>\n",
       "      <td>0.0</td>\n",
       "      <td>organic</td>\n",
       "      <td>2018</td>\n",
       "      <td>WestTexNewMexico</td>\n",
       "    </tr>\n",
       "    <tr>\n",
       "      <th>18247</th>\n",
       "      <td>10</td>\n",
       "      <td>1/14/2018</td>\n",
       "      <td>1.93</td>\n",
       "      <td>16205.22</td>\n",
       "      <td>1527.63</td>\n",
       "      <td>2981.04</td>\n",
       "      <td>727.01</td>\n",
       "      <td>10969.54</td>\n",
       "      <td>10919.54</td>\n",
       "      <td>50.00</td>\n",
       "      <td>0.0</td>\n",
       "      <td>organic</td>\n",
       "      <td>2018</td>\n",
       "      <td>WestTexNewMexico</td>\n",
       "    </tr>\n",
       "    <tr>\n",
       "      <th>18248</th>\n",
       "      <td>11</td>\n",
       "      <td>1/7/2018</td>\n",
       "      <td>1.62</td>\n",
       "      <td>17489.58</td>\n",
       "      <td>2894.77</td>\n",
       "      <td>2356.13</td>\n",
       "      <td>224.53</td>\n",
       "      <td>12014.15</td>\n",
       "      <td>11988.14</td>\n",
       "      <td>26.01</td>\n",
       "      <td>0.0</td>\n",
       "      <td>organic</td>\n",
       "      <td>2018</td>\n",
       "      <td>WestTexNewMexico</td>\n",
       "    </tr>\n",
       "  </tbody>\n",
       "</table>\n",
       "<p>18249 rows × 14 columns</p>\n",
       "</div>"
      ],
      "text/plain": [
       "       Unnamed: 0        Date  AveragePrice  Total Volume     4046       4225  \\\n",
       "0               0  12/27/2015          1.33      64236.62  1036.74   54454.85   \n",
       "1               1  12/20/2015          1.35      54876.98   674.28   44638.81   \n",
       "2               2  12/13/2015          0.93     118220.22   794.70  109149.67   \n",
       "3               3   12/6/2015          1.08      78992.15  1132.00   71976.41   \n",
       "4               4  11/29/2015          1.28      51039.60   941.48   43838.39   \n",
       "...           ...         ...           ...           ...      ...        ...   \n",
       "18244           7    2/4/2018          1.63      17074.83  2046.96    1529.20   \n",
       "18245           8   1/28/2018          1.71      13888.04  1191.70    3431.50   \n",
       "18246           9   1/21/2018          1.87      13766.76  1191.92    2452.79   \n",
       "18247          10   1/14/2018          1.93      16205.22  1527.63    2981.04   \n",
       "18248          11    1/7/2018          1.62      17489.58  2894.77    2356.13   \n",
       "\n",
       "         4770  Total Bags  Small Bags  Large Bags  XLarge Bags          type  \\\n",
       "0       48.16     8696.87     8603.62       93.25          0.0  conventional   \n",
       "1       58.33     9505.56     9408.07       97.49          0.0  conventional   \n",
       "2      130.50     8145.35     8042.21      103.14          0.0  conventional   \n",
       "3       72.58     5811.16     5677.40      133.76          0.0  conventional   \n",
       "4       75.78     6183.95     5986.26      197.69          0.0  conventional   \n",
       "...       ...         ...         ...         ...          ...           ...   \n",
       "18244    0.00    13498.67    13066.82      431.85          0.0       organic   \n",
       "18245    0.00     9264.84     8940.04      324.80          0.0       organic   \n",
       "18246  727.94     9394.11     9351.80       42.31          0.0       organic   \n",
       "18247  727.01    10969.54    10919.54       50.00          0.0       organic   \n",
       "18248  224.53    12014.15    11988.14       26.01          0.0       organic   \n",
       "\n",
       "       year            region  \n",
       "0      2015            Albany  \n",
       "1      2015            Albany  \n",
       "2      2015            Albany  \n",
       "3      2015            Albany  \n",
       "4      2015            Albany  \n",
       "...     ...               ...  \n",
       "18244  2018  WestTexNewMexico  \n",
       "18245  2018  WestTexNewMexico  \n",
       "18246  2018  WestTexNewMexico  \n",
       "18247  2018  WestTexNewMexico  \n",
       "18248  2018  WestTexNewMexico  \n",
       "\n",
       "[18249 rows x 14 columns]"
      ]
     },
     "execution_count": 3,
     "metadata": {},
     "output_type": "execute_result"
    }
   ],
   "source": [
    "df"
   ]
  },
  {
   "cell_type": "markdown",
   "metadata": {},
   "source": [
    "EDA"
   ]
  },
  {
   "cell_type": "code",
   "execution_count": 4,
   "metadata": {
    "scrolled": true
   },
   "outputs": [
    {
     "data": {
      "text/plain": [
       "Unnamed: 0        int64\n",
       "Date             object\n",
       "AveragePrice    float64\n",
       "Total Volume    float64\n",
       "4046            float64\n",
       "4225            float64\n",
       "4770            float64\n",
       "Total Bags      float64\n",
       "Small Bags      float64\n",
       "Large Bags      float64\n",
       "XLarge Bags     float64\n",
       "type             object\n",
       "year              int64\n",
       "region           object\n",
       "dtype: object"
      ]
     },
     "execution_count": 4,
     "metadata": {},
     "output_type": "execute_result"
    }
   ],
   "source": [
    "df.dtypes"
   ]
  },
  {
   "cell_type": "markdown",
   "metadata": {},
   "source": [
    "we can observe all columns are float in nature except date,region and type "
   ]
  },
  {
   "cell_type": "code",
   "execution_count": 5,
   "metadata": {
    "scrolled": true
   },
   "outputs": [
    {
     "data": {
      "text/plain": [
       "(18249, 14)"
      ]
     },
     "execution_count": 5,
     "metadata": {},
     "output_type": "execute_result"
    }
   ],
   "source": [
    "df.shape"
   ]
  },
  {
   "cell_type": "code",
   "execution_count": 6,
   "metadata": {
    "scrolled": true
   },
   "outputs": [
    {
     "data": {
      "text/plain": [
       "Index(['Unnamed: 0', 'Date', 'AveragePrice', 'Total Volume', '4046', '4225',\n",
       "       '4770', 'Total Bags', 'Small Bags', 'Large Bags', 'XLarge Bags', 'type',\n",
       "       'year', 'region'],\n",
       "      dtype='object')"
      ]
     },
     "execution_count": 6,
     "metadata": {},
     "output_type": "execute_result"
    }
   ],
   "source": [
    "df.columns"
   ]
  },
  {
   "cell_type": "markdown",
   "metadata": {},
   "source": [
    "the 'Unnamed:0'column is numbered like index which is not related for analysis hence we will drop the column"
   ]
  },
  {
   "cell_type": "code",
   "execution_count": 7,
   "metadata": {
    "scrolled": true
   },
   "outputs": [],
   "source": [
    "df.drop('Unnamed: 0',inplace=True,axis=1)"
   ]
  },
  {
   "cell_type": "markdown",
   "metadata": {},
   "source": [
    "UNDERSTANDING THE COLUMNS"
   ]
  },
  {
   "cell_type": "code",
   "execution_count": 8,
   "metadata": {
    "scrolled": true
   },
   "outputs": [
    {
     "data": {
      "text/plain": [
       "Index(['Date', 'AveragePrice', 'Total Volume', '4046', '4225', '4770',\n",
       "       'Total Bags', 'Small Bags', 'Large Bags', 'XLarge Bags', 'type', 'year',\n",
       "       'region'],\n",
       "      dtype='object')"
      ]
     },
     "execution_count": 8,
     "metadata": {},
     "output_type": "execute_result"
    }
   ],
   "source": [
    "df.columns"
   ]
  },
  {
   "cell_type": "code",
   "execution_count": 9,
   "metadata": {
    "scrolled": true
   },
   "outputs": [
    {
     "data": {
      "text/plain": [
       "Date            0\n",
       "AveragePrice    0\n",
       "Total Volume    0\n",
       "4046            0\n",
       "4225            0\n",
       "4770            0\n",
       "Total Bags      0\n",
       "Small Bags      0\n",
       "Large Bags      0\n",
       "XLarge Bags     0\n",
       "type            0\n",
       "year            0\n",
       "region          0\n",
       "dtype: int64"
      ]
     },
     "execution_count": 9,
     "metadata": {},
     "output_type": "execute_result"
    }
   ],
   "source": [
    "df.isnull().sum()"
   ]
  },
  {
   "cell_type": "markdown",
   "metadata": {},
   "source": [
    "we dont have any null or NaN values in the dataset"
   ]
  },
  {
   "cell_type": "code",
   "execution_count": 10,
   "metadata": {
    "scrolled": true
   },
   "outputs": [
    {
     "data": {
      "text/plain": [
       "<matplotlib.axes._subplots.AxesSubplot at 0x210ae061a60>"
      ]
     },
     "execution_count": 10,
     "metadata": {},
     "output_type": "execute_result"
    },
    {
     "data": {
      "image/png": "[encoded data removed]",
      "text/plain": [
       "<Figure size 360x360 with 1 Axes>"
      ]
     },
     "metadata": {
      "needs_background": "light"
     },
     "output_type": "display_data"
    }
   ],
   "source": [
    "plt.figure(figsize=(5,5))\n",
    "sns.countplot(df.type)"
   ]
  },
  {
   "cell_type": "code",
   "execution_count": 11,
   "metadata": {
    "scrolled": true
   },
   "outputs": [
    {
     "data": {
      "text/plain": [
       "conventional    9126\n",
       "organic         9123\n",
       "Name: type, dtype: int64"
      ]
     },
     "execution_count": 11,
     "metadata": {},
     "output_type": "execute_result"
    }
   ],
   "source": [
    "df.type.value_counts()"
   ]
  },
  {
   "cell_type": "markdown",
   "metadata": {},
   "source": [
    "their is 2 category in type column conventional and organic which looks like equally distributed while plotting,but when we derive numerical results conventionaltype of avacados slightly high in number"
   ]
  },
  {
   "cell_type": "code",
   "execution_count": 115,
   "metadata": {
    "scrolled": true
   },
   "outputs": [
    {
     "data": {
      "text/plain": [
       "<matplotlib.axes._subplots.AxesSubplot at 0x210b1f210d0>"
      ]
     },
     "execution_count": 115,
     "metadata": {},
     "output_type": "execute_result"
    },
    {
     "data": {
      "image/png": "[encoded data removed]",
      "text/plain": [
       "<Figure size 288x144 with 1 Axes>"
      ]
     },
     "metadata": {
      "needs_background": "light"
     },
     "output_type": "display_data"
    }
   ],
   "source": [
    "plt.figure(figsize=(4,2))\n",
    "sns.countplot(df.year)"
   ]
  },
  {
   "cell_type": "code",
   "execution_count": 13,
   "metadata": {
    "scrolled": true
   },
   "outputs": [
    {
     "data": {
      "text/plain": [
       "2017    5722\n",
       "2016    5616\n",
       "2015    5615\n",
       "2018    1296\n",
       "Name: year, dtype: int64"
      ]
     },
     "execution_count": 13,
     "metadata": {},
     "output_type": "execute_result"
    }
   ],
   "source": [
    "df.year.value_counts()"
   ]
  },
  {
   "cell_type": "markdown",
   "metadata": {},
   "source": [
    "The data has been collected from 2015,2016,2017 & 2018, information is not evenly extracted from all years,we can see 2017 has highest and 2018 with least data"
   ]
  },
  {
   "cell_type": "code",
   "execution_count": 14,
   "metadata": {
    "scrolled": true
   },
   "outputs": [
    {
     "data": {
      "text/plain": [
       "Seattle                338\n",
       "Detroit                338\n",
       "SouthCentral           338\n",
       "California             338\n",
       "Indianapolis           338\n",
       "Northeast              338\n",
       "GrandRapids            338\n",
       "DallasFtWorth          338\n",
       "Atlanta                338\n",
       "BuffaloRochester       338\n",
       "MiamiFtLauderdale      338\n",
       "TotalUS                338\n",
       "Albany                 338\n",
       "Tampa                  338\n",
       "Louisville             338\n",
       "HartfordSpringfield    338\n",
       "NewYork                338\n",
       "Spokane                338\n",
       "Roanoke                338\n",
       "Houston                338\n",
       "Midsouth               338\n",
       "Columbus               338\n",
       "CincinnatiDayton       338\n",
       "Pittsburgh             338\n",
       "Philadelphia           338\n",
       "BaltimoreWashington    338\n",
       "LosAngeles             338\n",
       "Southeast              338\n",
       "NorthernNewEngland     338\n",
       "SanDiego               338\n",
       "PhoenixTucson          338\n",
       "NewOrleansMobile       338\n",
       "Nashville              338\n",
       "LasVegas               338\n",
       "StLouis                338\n",
       "Boston                 338\n",
       "Chicago                338\n",
       "Sacramento             338\n",
       "Orlando                338\n",
       "Syracuse               338\n",
       "Portland               338\n",
       "Denver                 338\n",
       "RichmondNorfolk        338\n",
       "HarrisburgScranton     338\n",
       "SouthCarolina          338\n",
       "Charlotte              338\n",
       "RaleighGreensboro      338\n",
       "SanFrancisco           338\n",
       "Boise                  338\n",
       "Plains                 338\n",
       "West                   338\n",
       "GreatLakes             338\n",
       "Jacksonville           338\n",
       "WestTexNewMexico       335\n",
       "Name: region, dtype: int64"
      ]
     },
     "execution_count": 14,
     "metadata": {},
     "output_type": "execute_result"
    }
   ],
   "source": [
    "df.region.value_counts()"
   ]
  },
  {
   "cell_type": "markdown",
   "metadata": {},
   "source": [
    "we have got 54 varities of regions from which data is taken"
   ]
  },
  {
   "cell_type": "code",
   "execution_count": 15,
   "metadata": {
    "scrolled": true
   },
   "outputs": [
    {
     "data": {
      "text/plain": [
       "year  type        \n",
       "2015  conventional    2808\n",
       "      organic         2807\n",
       "2016  conventional    2808\n",
       "      organic         2808\n",
       "2017  conventional    2862\n",
       "      organic         2860\n",
       "2018  conventional     648\n",
       "      organic          648\n",
       "Name: type, dtype: int64"
      ]
     },
     "execution_count": 15,
     "metadata": {},
     "output_type": "execute_result"
    }
   ],
   "source": [
    "\n",
    "df.groupby('year')['type'].value_counts()\n"
   ]
  },
  {
   "cell_type": "markdown",
   "metadata": {},
   "source": [
    "we can observe 2016 and 2018 the conventional amd organic avacados sold equal numbers and in 2015 and 2017 conventional types was sold at insignificantly high volume"
   ]
  },
  {
   "cell_type": "code",
   "execution_count": 16,
   "metadata": {
    "scrolled": true
   },
   "outputs": [
    {
     "data": {
      "text/plain": [
       "<matplotlib.axes._subplots.AxesSubplot at 0x210ae2d2be0>"
      ]
     },
     "execution_count": 16,
     "metadata": {},
     "output_type": "execute_result"
    },
    {
     "data": {
      "image/png": "[encoded data removed]",
      "text/plain": [
       "<Figure size 432x288 with 1 Axes>"
      ]
     },
     "metadata": {
      "needs_background": "light"
     },
     "output_type": "display_data"
    }
   ],
   "source": [
    "sns.barplot(x='year',y='AveragePrice',data=df)"
   ]
  },
  {
   "cell_type": "markdown",
   "metadata": {},
   "source": [
    "From the above barplot we can understand the average price was high in the year 2017 and lowest in 2016"
   ]
  },
  {
   "cell_type": "code",
   "execution_count": 17,
   "metadata": {
    "scrolled": true
   },
   "outputs": [
    {
     "data": {
      "text/plain": [
       "<matplotlib.axes._subplots.AxesSubplot at 0x210ae365e80>"
      ]
     },
     "execution_count": 17,
     "metadata": {},
     "output_type": "execute_result"
    },
    {
     "data": {
      "image/png": "[encoded data removed]",
      "text/plain": [
       "<Figure size 432x288 with 1 Axes>"
      ]
     },
     "metadata": {
      "needs_background": "light"
     },
     "output_type": "display_data"
    }
   ],
   "source": [
    "sns.barplot(x='year',y='Total Volume',data=df)"
   ]
  },
  {
   "cell_type": "markdown",
   "metadata": {},
   "source": [
    "Volume of sales is high in 2018 and lowest in 2015"
   ]
  },
  {
   "cell_type": "code",
   "execution_count": 116,
   "metadata": {
    "scrolled": true
   },
   "outputs": [
    {
     "data": {
      "image/png": "[encoded data removed]",
      "text/plain": [
       "<Figure size 1080x720 with 2 Axes>"
      ]
     },
     "metadata": {
      "needs_background": "light"
     },
     "output_type": "display_data"
    }
   ],
   "source": [
    "plt.figure(figsize=(15,10))\n",
    "sns.heatmap(round(df.describe()[1:].transpose(),2),linewidth=2,annot=True,fmt=\"f\")\n",
    "\n",
    "plt.show()"
   ]
  },
  {
   "cell_type": "markdown",
   "metadata": {},
   "source": [
    "\n",
    "\n",
    "\n",
    "\n",
    "AveragePrice:No deviation between mean and median,max and 75% has difference and also the data has disparity with mean and STD,              which shows data is not normally distributed\n",
    "Total Volume: we can find outliers as mean and median,mean and standard deviation and 75% with max values have more variations               than normal\n",
    "4046:we can find outliers as mean and median,mean and standard deviation and 75% with max values have more variations               than normal\n",
    "4225:we can find outliers as mean and median,mean and standard deviation and 75% with max values have more variations               than normal\n",
    "4770:we can find outliers as mean and median,mean and standard deviation and 75% with max values have more variations               than normal\n",
    "Total Bags:we can find outliers as mean and median,mean and standard deviation and 75% with max values have more variations               than normal\n",
    "Small Bags:we can find outliers as mean and median,mean and standard deviation and 75% with max values have more variations                than normal\n",
    "Large Bags:we can find outliers as mean and median,mean and standard deviation and 75% with max values have more variations                than normal\n",
    "XLarge Bags:we can find outliers as mean and median,mean and standard deviation and 75% with max values have more variations               than normal\n",
    "year:No deviation between mean and median,max and 75% has negligable difference"
   ]
  },
  {
   "cell_type": "code",
   "execution_count": 117,
   "metadata": {
    "scrolled": true
   },
   "outputs": [
    {
     "data": {
      "text/plain": [
       "<matplotlib.axes._subplots.AxesSubplot at 0x210b1edac40>"
      ]
     },
     "execution_count": 117,
     "metadata": {},
     "output_type": "execute_result"
    },
    {
     "data": {
      "image/png": "[encoded data removed]",
      "text/plain": [
       "<Figure size 1080x720 with 3 Axes>"
      ]
     },
     "metadata": {
      "needs_background": "light"
     },
     "output_type": "display_data"
    }
   ],
   "source": [
    "plt.figure(figsize=(15, 10))\n",
    "sns.heatmap(df.corr())\n",
    "sns.heatmap(df.corr(), annot = True, vmin=-1, vmax=1, center= 0, cmap= 'coolwarm', linewidths=3, linecolor='black')"
   ]
  },
  {
   "cell_type": "markdown",
   "metadata": {},
   "source": [
    "Total number of avocados sold with PLU 4225 and  PLU 4046 has highest correlation of 975 and 985 respectively\n",
    "small bags sold are correlated 97% with total number of volume sold out total bags sold is 96% of totalvolume\n",
    "\n",
    "xl bags are comparitvely less sold i,e., 75% and number of avocados sold with PLU 4770 is also less as it shows 875 correlation \n",
    "\n",
    "average price and year has no correlation\n"
   ]
  },
  {
   "cell_type": "code",
   "execution_count": 118,
   "metadata": {
    "scrolled": true
   },
   "outputs": [
    {
     "data": {
      "text/plain": [
       "array([[<matplotlib.axes._subplots.AxesSubplot object at 0x00000210B3458220>,\n",
       "        <matplotlib.axes._subplots.AxesSubplot object at 0x00000210B348F1F0>,\n",
       "        <matplotlib.axes._subplots.AxesSubplot object at 0x00000210B34B28B0>,\n",
       "        <matplotlib.axes._subplots.AxesSubplot object at 0x00000210B36FC0D0>],\n",
       "       [<matplotlib.axes._subplots.AxesSubplot object at 0x00000210B3731820>,\n",
       "        <matplotlib.axes._subplots.AxesSubplot object at 0x00000210B375B070>,\n",
       "        <matplotlib.axes._subplots.AxesSubplot object at 0x00000210B375BFD0>,\n",
       "        <matplotlib.axes._subplots.AxesSubplot object at 0x00000210B27E7880>],\n",
       "       [<matplotlib.axes._subplots.AxesSubplot object at 0x00000210B273CB80>,\n",
       "        <matplotlib.axes._subplots.AxesSubplot object at 0x00000210B270EA90>,\n",
       "        <matplotlib.axes._subplots.AxesSubplot object at 0x00000210B1F83BB0>,\n",
       "        <matplotlib.axes._subplots.AxesSubplot object at 0x00000210B0D8FE20>],\n",
       "       [<matplotlib.axes._subplots.AxesSubplot object at 0x00000210AEDD62E0>,\n",
       "        <matplotlib.axes._subplots.AxesSubplot object at 0x00000210AED615E0>,\n",
       "        <matplotlib.axes._subplots.AxesSubplot object at 0x00000210AEC77460>,\n",
       "        <matplotlib.axes._subplots.AxesSubplot object at 0x00000210AEF26220>]],\n",
       "      dtype=object)"
      ]
     },
     "execution_count": 118,
     "metadata": {},
     "output_type": "execute_result"
    },
    {
     "data": {
      "image/png": "[encoded data removed]",
      "text/plain": [
       "<Figure size 1440x1440 with 16 Axes>"
      ]
     },
     "metadata": {
      "needs_background": "light"
     },
     "output_type": "display_data"
    }
   ],
   "source": [
    "df.hist(edgecolor='red',linewidth=1.5,figsize=(20,20))"
   ]
  },
  {
   "cell_type": "markdown",
   "metadata": {},
   "source": [
    "From the above chart we can see the data is not normally distributed except average price data,hence we will check the level of skewness with each attribute and remove the outliers to make further analysis"
   ]
  },
  {
   "cell_type": "markdown",
   "metadata": {},
   "source": [
    "CHECKING FOR OUTLIERS "
   ]
  },
  {
   "cell_type": "markdown",
   "metadata": {},
   "source": [
    "checking outiers on sub categories"
   ]
  },
  {
   "cell_type": "code",
   "execution_count": 119,
   "metadata": {},
   "outputs": [
    {
     "data": {
      "text/plain": [
       "Text(0, 0.5, 'Total Volume')"
      ]
     },
     "execution_count": 119,
     "metadata": {},
     "output_type": "execute_result"
    },
    {
     "data": {
      "image/png": "[encoded data removed]",
      "text/plain": [
       "<Figure size 1008x648 with 1 Axes>"
      ]
     },
     "metadata": {
      "needs_background": "light"
     },
     "output_type": "display_data"
    }
   ],
   "source": [
    "plt.figure(figsize = (14,9))\n",
    "\n",
    "plt.subplot(211)\n",
    "a = sns.boxplot(x='year', y='Total Volume', data=df, palette=\"Set1\")\n",
    "a.set_title(\"year vs. Total Volume\", fontsize=15)\n",
    "a.set_xlabel(\"\", fontsize=12)\n",
    "a.set_ylabel(\"Total Volume\", fontsize=12)"
   ]
  },
  {
   "cell_type": "code",
   "execution_count": 120,
   "metadata": {
    "scrolled": false
   },
   "outputs": [
    {
     "data": {
      "text/plain": [
       "Text(0, 0.5, 'Total Volume')"
      ]
     },
     "execution_count": 120,
     "metadata": {},
     "output_type": "execute_result"
    },
    {
     "data": {
      "image/png": "[encoded data removed]",
      "text/plain": [
       "<Figure size 1008x648 with 1 Axes>"
      ]
     },
     "metadata": {
      "needs_background": "light"
     },
     "output_type": "display_data"
    }
   ],
   "source": [
    "plt.figure(figsize = (14,9))\n",
    "\n",
    "plt.subplot(211)\n",
    "a = sns.boxplot(x='type', y='Total Volume', data=df, palette=\"Set1\")\n",
    "a.set_title(\"type vs. Total Volume\", fontsize=15)\n",
    "a.set_xlabel(\"\", fontsize=12)\n",
    "a.set_ylabel(\"Total Volume\", fontsize=12)"
   ]
  },
  {
   "cell_type": "code",
   "execution_count": 121,
   "metadata": {},
   "outputs": [
    {
     "data": {
      "text/plain": [
       "Date            0.184073\n",
       "AveragePrice    0.413916\n",
       "Total Volume    0.062751\n",
       "4046           -0.356673\n",
       "4225           -0.413289\n",
       "4770            0.063880\n",
       "Total Bags     -0.117007\n",
       "Small Bags     -0.262736\n",
       "Large Bags     -0.567968\n",
       "XLarge Bags     1.142228\n",
       "type            0.045547\n",
       "year            0.209500\n",
       "region          0.021042\n",
       "months          0.116169\n",
       "dtype: float64"
      ]
     },
     "execution_count": 121,
     "metadata": {},
     "output_type": "execute_result"
    }
   ],
   "source": [
    "df.skew()"
   ]
  },
  {
   "cell_type": "markdown",
   "metadata": {},
   "source": [
    "\n",
    "\n",
    "\n",
    "We can observe from above data\n",
    "-->high skewness in XLarge bags with 13.14 and number of avocados with PLU 4770 with 10.16\n",
    "-->total bags with 9.75,Large bags with 9.79, small bags with 9.54, total sales volume with 9\n",
    "-->number of avocados with PLU 4046 with 8.64 and number of avocados with PLU 4225 with 8.94\n",
    "\n",
    "Therfore we can conclude from histogram, boxplot of outliers and skewness data that all the attributes are having outliers other than AveragePrice\n"
   ]
  },
  {
   "cell_type": "code",
   "execution_count": 122,
   "metadata": {},
   "outputs": [],
   "source": [
    "skew=('Total Volume','4046','4225','4770','Total Bags','Small Bags','Large Bags','XLarge Bags')\n",
    "\n",
    "for col in skew:\n",
    "    if df.skew().loc[col]>0.55:\n",
    "        df[col]=np.log1p(df[col])"
   ]
  },
  {
   "cell_type": "markdown",
   "metadata": {},
   "source": [
    "From the above figure we can see the outliers present in sales volume of all years"
   ]
  },
  {
   "cell_type": "markdown",
   "metadata": {},
   "source": [
    "conventional type of avacados has more outliers than organic type of avacados"
   ]
  },
  {
   "cell_type": "markdown",
   "metadata": {},
   "source": [
    "checking outliers on all attributes "
   ]
  },
  {
   "cell_type": "code",
   "execution_count": 123,
   "metadata": {
    "scrolled": true
   },
   "outputs": [
    {
     "data": {
      "text/plain": [
       "Date                AxesSubplot(0.125,0.71587;0.168478x0.16413)\n",
       "AveragePrice     AxesSubplot(0.327174,0.71587;0.168478x0.16413)\n",
       "Total Volume     AxesSubplot(0.529348,0.71587;0.168478x0.16413)\n",
       "4046             AxesSubplot(0.731522,0.71587;0.168478x0.16413)\n",
       "4225               AxesSubplot(0.125,0.518913;0.168478x0.16413)\n",
       "4770            AxesSubplot(0.327174,0.518913;0.168478x0.16413)\n",
       "Total Bags      AxesSubplot(0.529348,0.518913;0.168478x0.16413)\n",
       "Small Bags      AxesSubplot(0.731522,0.518913;0.168478x0.16413)\n",
       "Large Bags         AxesSubplot(0.125,0.321957;0.168478x0.16413)\n",
       "XLarge Bags     AxesSubplot(0.327174,0.321957;0.168478x0.16413)\n",
       "type            AxesSubplot(0.529348,0.321957;0.168478x0.16413)\n",
       "year            AxesSubplot(0.731522,0.321957;0.168478x0.16413)\n",
       "region                AxesSubplot(0.125,0.125;0.168478x0.16413)\n",
       "months             AxesSubplot(0.327174,0.125;0.168478x0.16413)\n",
       "dtype: object"
      ]
     },
     "execution_count": 123,
     "metadata": {},
     "output_type": "execute_result"
    },
    {
     "data": {
      "image/png": "[encoded data removed]",
      "text/plain": [
       "<Figure size 720x720 with 16 Axes>"
      ]
     },
     "metadata": {
      "needs_background": "light"
     },
     "output_type": "display_data"
    }
   ],
   "source": [
    "df.plot(kind='box',subplots= True,layout=(4,4),figsize=(10,10))"
   ]
  },
  {
   "cell_type": "markdown",
   "metadata": {},
   "source": [
    "We have got the same results as histogram plots,all columns except average price and year we find outliers present \n",
    "lets observe the level of skewness in each attribute"
   ]
  },
  {
   "cell_type": "markdown",
   "metadata": {},
   "source": [
    "DATA CLEANSING"
   ]
  },
  {
   "cell_type": "code",
   "execution_count": 124,
   "metadata": {
    "scrolled": true
   },
   "outputs": [
    {
     "data": {
      "text/plain": [
       "0         0\n",
       "1         0\n",
       "2         0\n",
       "3         0\n",
       "4         0\n",
       "         ..\n",
       "18244    53\n",
       "18245    53\n",
       "18246    53\n",
       "18247    53\n",
       "18248    53\n",
       "Name: region, Length: 17834, dtype: int64"
      ]
     },
     "execution_count": 124,
     "metadata": {},
     "output_type": "execute_result"
    }
   ],
   "source": [
    "from sklearn import preprocessing\n",
    "le = preprocessing.LabelEncoder()\n",
    "df['type']=le.fit_transform(df['type'])\n",
    "df['type']\n",
    "df['region']=le.fit_transform(df['region'])\n",
    "df['region']"
   ]
  },
  {
   "cell_type": "code",
   "execution_count": 125,
   "metadata": {
    "scrolled": true
   },
   "outputs": [],
   "source": [
    "import datetime"
   ]
  },
  {
   "cell_type": "code",
   "execution_count": 126,
   "metadata": {
    "scrolled": true
   },
   "outputs": [
    {
     "data": {
      "text/plain": [
       "<matplotlib.axes._subplots.AxesSubplot at 0x210b30ab2e0>"
      ]
     },
     "execution_count": 126,
     "metadata": {},
     "output_type": "execute_result"
    },
    {
     "data": {
      "image/png": "[encoded data removed]",
      "text/plain": [
       "<Figure size 432x288 with 1 Axes>"
      ]
     },
     "metadata": {
      "needs_background": "light"
     },
     "output_type": "display_data"
    }
   ],
   "source": [
    "df['Date']=pd.to_datetime(df['Date'])\n",
    "df[\"months\"]=df['Date'].map(lambda x : x.month)\n",
    "plt.title('Average price each month')\n",
    "sns.lineplot(x='months',y='AveragePrice',data=df,hue='type')"
   ]
  },
  {
   "cell_type": "markdown",
   "metadata": {},
   "source": [
    "the above data shows the prices are not even in all the months, which means prices fluctuate according to seasonal changes"
   ]
  },
  {
   "cell_type": "code",
   "execution_count": 129,
   "metadata": {
    "scrolled": true
   },
   "outputs": [],
   "source": [
    "da=pd.to_datetime(df['Date'],errors='coerce')\n",
    "df['Date']=da.dt.strftime(\"%Y%m%d\").astype(int)"
   ]
  },
  {
   "cell_type": "code",
   "execution_count": 130,
   "metadata": {
    "scrolled": true
   },
   "outputs": [
    {
     "data": {
      "text/plain": [
       "Date              int32\n",
       "AveragePrice    float64\n",
       "Total Volume    float64\n",
       "4046            float64\n",
       "4225            float64\n",
       "4770            float64\n",
       "Total Bags      float64\n",
       "Small Bags      float64\n",
       "Large Bags      float64\n",
       "XLarge Bags     float64\n",
       "type              int64\n",
       "year              int64\n",
       "region            int64\n",
       "months            int64\n",
       "dtype: object"
      ]
     },
     "execution_count": 130,
     "metadata": {},
     "output_type": "execute_result"
    }
   ],
   "source": [
    "df.dtypes"
   ]
  },
  {
   "cell_type": "code",
   "execution_count": 137,
   "metadata": {},
   "outputs": [
    {
     "data": {
      "text/plain": [
       "(17834, 14)"
      ]
     },
     "execution_count": 137,
     "metadata": {},
     "output_type": "execute_result"
    }
   ],
   "source": [
    "df.shape"
   ]
  },
  {
   "cell_type": "markdown",
   "metadata": {},
   "source": [
    "REMOVING OUTLIERS"
   ]
  },
  {
   "cell_type": "code",
   "execution_count": 133,
   "metadata": {
    "scrolled": true
   },
   "outputs": [
    {
     "name": "stdout",
     "output_type": "stream",
     "text": [
      "[[       nan 0.16022288 0.13249789 ... 1.22957126 1.69078431        nan]\n",
      " [       nan 0.10846984 0.20162572 ... 1.22957126 1.69078431        nan]\n",
      " [       nan 1.19528376 0.13526087 ... 1.22957126 1.69078431        nan]\n",
      " ...\n",
      " [       nan 1.23710929 0.8086277  ... 1.96090944 1.71404749        nan]\n",
      " [       nan 1.39236842 0.73704662 ... 1.96090944 1.71404749        nan]\n",
      " [       nan 0.59019625 0.70356744 ... 1.96090944 1.71404749        nan]]\n"
     ]
    }
   ],
   "source": [
    "\n",
    "from scipy.stats import zscore\n",
    "z=np.abs(zscore(df))\n",
    "print(z)"
   ]
  },
  {
   "cell_type": "code",
   "execution_count": 138,
   "metadata": {},
   "outputs": [
    {
     "name": "stdout",
     "output_type": "stream",
     "text": [
      "(array([    0,     0,     0, ..., 17833, 17833, 17833], dtype=int64), array([ 1,  2,  3, ..., 10, 11, 12], dtype=int64))\n",
      "(17834, 14)\n"
     ]
    }
   ],
   "source": [
    "threshold = 3\n",
    "print(np.where(z<3))\n",
    "print(df.shape)"
   ]
  },
  {
   "cell_type": "code",
   "execution_count": 139,
   "metadata": {
    "scrolled": true
   },
   "outputs": [],
   "source": [
    "df_new=df[(z<3).all(axis=1)]"
   ]
  },
  {
   "cell_type": "code",
   "execution_count": 140,
   "metadata": {},
   "outputs": [
    {
     "name": "stdout",
     "output_type": "stream",
     "text": [
      "(17834, 14)\n",
      "(0, 14)\n",
      "shape after removing outliers (0, 14)\n"
     ]
    }
   ],
   "source": [
    "print(df.shape)\n",
    "print(df_new.shape)\n",
    "df=df_new\n",
    "print('shape after removing outliers',df.shape)"
   ]
  },
  {
   "cell_type": "code",
   "execution_count": 141,
   "metadata": {
    "scrolled": true
   },
   "outputs": [
    {
     "data": {
      "text/plain": [
       "Index(['Date', 'AveragePrice', 'Total Volume', '4046', '4225', '4770',\n",
       "       'Total Bags', 'Small Bags', 'Large Bags', 'XLarge Bags', 'type', 'year',\n",
       "       'region', 'months'],\n",
       "      dtype='object')"
      ]
     },
     "execution_count": 141,
     "metadata": {},
     "output_type": "execute_result"
    }
   ],
   "source": [
    "\n",
    "df.columns"
   ]
  },
  {
   "cell_type": "code",
   "execution_count": 35,
   "metadata": {
    "scrolled": true
   },
   "outputs": [
    {
     "name": "stdout",
     "output_type": "stream",
     "text": [
      "2.2412186969148995\n"
     ]
    }
   ],
   "source": [
    "\n",
    "percentage_loss=((18249-17840 )/18249)*100\n",
    "print(percentage_loss)"
   ]
  },
  {
   "cell_type": "markdown",
   "metadata": {},
   "source": [
    "#### if we opt to remove outliers through zscore we will be loosing 2.24% of data"
   ]
  },
  {
   "cell_type": "code",
   "execution_count": 36,
   "metadata": {
    "scrolled": true
   },
   "outputs": [
    {
     "name": "stdout",
     "output_type": "stream",
     "text": [
      "Date            19579.000000\n",
      "AveragePrice        0.560000\n",
      "Total Volume        3.670237\n",
      "4046                4.823705\n",
      "4225                3.908651\n",
      "4770                8.783225\n",
      "Total Bags          3.005780\n",
      "Small Bags          3.251940\n",
      "Large Bags          5.098820\n",
      "XLarge Bags         5.036547\n",
      "type                1.000000\n",
      "year                2.000000\n",
      "region             27.000000\n",
      "months              6.000000\n",
      "dtype: float64\n"
     ]
    }
   ],
   "source": [
    "Q1=df.quantile(0.25)\n",
    "Q3=df.quantile(0.75)\n",
    "IQR=Q3-Q1\n",
    "print(IQR)"
   ]
  },
  {
   "cell_type": "code",
   "execution_count": 37,
   "metadata": {
    "scrolled": true
   },
   "outputs": [
    {
     "data": {
      "text/html": [
       "<div>\n",
       "<style scoped>\n",
       "    .dataframe tbody tr th:only-of-type {\n",
       "        vertical-align: middle;\n",
       "    }\n",
       "\n",
       "    .dataframe tbody tr th {\n",
       "        vertical-align: top;\n",
       "    }\n",
       "\n",
       "    .dataframe thead th {\n",
       "        text-align: right;\n",
       "    }\n",
       "</style>\n",
       "<table border=\"1\" class=\"dataframe\">\n",
       "  <thead>\n",
       "    <tr style=\"text-align: right;\">\n",
       "      <th></th>\n",
       "      <th>Date</th>\n",
       "      <th>AveragePrice</th>\n",
       "      <th>Total Volume</th>\n",
       "      <th>4046</th>\n",
       "      <th>4225</th>\n",
       "      <th>4770</th>\n",
       "      <th>Total Bags</th>\n",
       "      <th>Small Bags</th>\n",
       "      <th>Large Bags</th>\n",
       "      <th>XLarge Bags</th>\n",
       "      <th>type</th>\n",
       "      <th>year</th>\n",
       "      <th>region</th>\n",
       "      <th>months</th>\n",
       "    </tr>\n",
       "  </thead>\n",
       "  <tbody>\n",
       "    <tr>\n",
       "      <th>0</th>\n",
       "      <td>20151227</td>\n",
       "      <td>1.33</td>\n",
       "      <td>11.070344</td>\n",
       "      <td>6.944801</td>\n",
       "      <td>10.905146</td>\n",
       "      <td>3.895080</td>\n",
       "      <td>9.070833</td>\n",
       "      <td>9.060055</td>\n",
       "      <td>4.545951</td>\n",
       "      <td>0.0</td>\n",
       "      <td>0</td>\n",
       "      <td>2015</td>\n",
       "      <td>0</td>\n",
       "      <td>12</td>\n",
       "    </tr>\n",
       "    <tr>\n",
       "      <th>1</th>\n",
       "      <td>20151220</td>\n",
       "      <td>1.35</td>\n",
       "      <td>10.912867</td>\n",
       "      <td>6.515127</td>\n",
       "      <td>10.706381</td>\n",
       "      <td>4.083115</td>\n",
       "      <td>9.159737</td>\n",
       "      <td>9.149429</td>\n",
       "      <td>4.589955</td>\n",
       "      <td>0.0</td>\n",
       "      <td>0</td>\n",
       "      <td>2015</td>\n",
       "      <td>0</td>\n",
       "      <td>12</td>\n",
       "    </tr>\n",
       "    <tr>\n",
       "      <th>2</th>\n",
       "      <td>20151213</td>\n",
       "      <td>0.93</td>\n",
       "      <td>11.680313</td>\n",
       "      <td>6.679222</td>\n",
       "      <td>11.600485</td>\n",
       "      <td>4.879007</td>\n",
       "      <td>9.005325</td>\n",
       "      <td>8.992584</td>\n",
       "      <td>4.645736</td>\n",
       "      <td>0.0</td>\n",
       "      <td>0</td>\n",
       "      <td>2015</td>\n",
       "      <td>0</td>\n",
       "      <td>12</td>\n",
       "    </tr>\n",
       "    <tr>\n",
       "      <th>3</th>\n",
       "      <td>20151206</td>\n",
       "      <td>1.08</td>\n",
       "      <td>11.277116</td>\n",
       "      <td>7.032624</td>\n",
       "      <td>11.184108</td>\n",
       "      <td>4.298373</td>\n",
       "      <td>8.667708</td>\n",
       "      <td>8.644425</td>\n",
       "      <td>4.903495</td>\n",
       "      <td>0.0</td>\n",
       "      <td>0</td>\n",
       "      <td>2015</td>\n",
       "      <td>0</td>\n",
       "      <td>12</td>\n",
       "    </tr>\n",
       "    <tr>\n",
       "      <th>4</th>\n",
       "      <td>20151129</td>\n",
       "      <td>1.28</td>\n",
       "      <td>10.840377</td>\n",
       "      <td>6.848515</td>\n",
       "      <td>10.688288</td>\n",
       "      <td>4.340944</td>\n",
       "      <td>8.729874</td>\n",
       "      <td>8.697389</td>\n",
       "      <td>5.291746</td>\n",
       "      <td>0.0</td>\n",
       "      <td>0</td>\n",
       "      <td>2015</td>\n",
       "      <td>0</td>\n",
       "      <td>11</td>\n",
       "    </tr>\n",
       "    <tr>\n",
       "      <th>...</th>\n",
       "      <td>...</td>\n",
       "      <td>...</td>\n",
       "      <td>...</td>\n",
       "      <td>...</td>\n",
       "      <td>...</td>\n",
       "      <td>...</td>\n",
       "      <td>...</td>\n",
       "      <td>...</td>\n",
       "      <td>...</td>\n",
       "      <td>...</td>\n",
       "      <td>...</td>\n",
       "      <td>...</td>\n",
       "      <td>...</td>\n",
       "      <td>...</td>\n",
       "    </tr>\n",
       "    <tr>\n",
       "      <th>18244</th>\n",
       "      <td>20180204</td>\n",
       "      <td>1.63</td>\n",
       "      <td>9.745419</td>\n",
       "      <td>7.624599</td>\n",
       "      <td>7.333154</td>\n",
       "      <td>0.000000</td>\n",
       "      <td>9.510421</td>\n",
       "      <td>9.477908</td>\n",
       "      <td>6.070391</td>\n",
       "      <td>0.0</td>\n",
       "      <td>1</td>\n",
       "      <td>2018</td>\n",
       "      <td>53</td>\n",
       "      <td>2</td>\n",
       "    </tr>\n",
       "    <tr>\n",
       "      <th>18245</th>\n",
       "      <td>20180128</td>\n",
       "      <td>1.71</td>\n",
       "      <td>9.538855</td>\n",
       "      <td>7.083975</td>\n",
       "      <td>8.141044</td>\n",
       "      <td>0.000000</td>\n",
       "      <td>9.134090</td>\n",
       "      <td>9.098407</td>\n",
       "      <td>5.786284</td>\n",
       "      <td>0.0</td>\n",
       "      <td>1</td>\n",
       "      <td>2018</td>\n",
       "      <td>53</td>\n",
       "      <td>1</td>\n",
       "    </tr>\n",
       "    <tr>\n",
       "      <th>18246</th>\n",
       "      <td>20180121</td>\n",
       "      <td>1.87</td>\n",
       "      <td>9.530085</td>\n",
       "      <td>7.084159</td>\n",
       "      <td>7.805389</td>\n",
       "      <td>6.591591</td>\n",
       "      <td>9.147945</td>\n",
       "      <td>9.143431</td>\n",
       "      <td>3.768384</td>\n",
       "      <td>0.0</td>\n",
       "      <td>1</td>\n",
       "      <td>2018</td>\n",
       "      <td>53</td>\n",
       "      <td>1</td>\n",
       "    </tr>\n",
       "    <tr>\n",
       "      <th>18247</th>\n",
       "      <td>20180114</td>\n",
       "      <td>1.93</td>\n",
       "      <td>9.693150</td>\n",
       "      <td>7.332127</td>\n",
       "      <td>8.000363</td>\n",
       "      <td>6.590315</td>\n",
       "      <td>9.302969</td>\n",
       "      <td>9.298401</td>\n",
       "      <td>3.931826</td>\n",
       "      <td>0.0</td>\n",
       "      <td>1</td>\n",
       "      <td>2018</td>\n",
       "      <td>53</td>\n",
       "      <td>1</td>\n",
       "    </tr>\n",
       "    <tr>\n",
       "      <th>18248</th>\n",
       "      <td>20180107</td>\n",
       "      <td>1.62</td>\n",
       "      <td>9.769418</td>\n",
       "      <td>7.971006</td>\n",
       "      <td>7.765200</td>\n",
       "      <td>5.418453</td>\n",
       "      <td>9.393924</td>\n",
       "      <td>9.391757</td>\n",
       "      <td>3.296207</td>\n",
       "      <td>0.0</td>\n",
       "      <td>1</td>\n",
       "      <td>2018</td>\n",
       "      <td>53</td>\n",
       "      <td>1</td>\n",
       "    </tr>\n",
       "  </tbody>\n",
       "</table>\n",
       "<p>17528 rows × 14 columns</p>\n",
       "</div>"
      ],
      "text/plain": [
       "           Date  AveragePrice  Total Volume      4046       4225      4770  \\\n",
       "0      20151227          1.33     11.070344  6.944801  10.905146  3.895080   \n",
       "1      20151220          1.35     10.912867  6.515127  10.706381  4.083115   \n",
       "2      20151213          0.93     11.680313  6.679222  11.600485  4.879007   \n",
       "3      20151206          1.08     11.277116  7.032624  11.184108  4.298373   \n",
       "4      20151129          1.28     10.840377  6.848515  10.688288  4.340944   \n",
       "...         ...           ...           ...       ...        ...       ...   \n",
       "18244  20180204          1.63      9.745419  7.624599   7.333154  0.000000   \n",
       "18245  20180128          1.71      9.538855  7.083975   8.141044  0.000000   \n",
       "18246  20180121          1.87      9.530085  7.084159   7.805389  6.591591   \n",
       "18247  20180114          1.93      9.693150  7.332127   8.000363  6.590315   \n",
       "18248  20180107          1.62      9.769418  7.971006   7.765200  5.418453   \n",
       "\n",
       "       Total Bags  Small Bags  Large Bags  XLarge Bags  type  year  region  \\\n",
       "0        9.070833    9.060055    4.545951          0.0     0  2015       0   \n",
       "1        9.159737    9.149429    4.589955          0.0     0  2015       0   \n",
       "2        9.005325    8.992584    4.645736          0.0     0  2015       0   \n",
       "3        8.667708    8.644425    4.903495          0.0     0  2015       0   \n",
       "4        8.729874    8.697389    5.291746          0.0     0  2015       0   \n",
       "...           ...         ...         ...          ...   ...   ...     ...   \n",
       "18244    9.510421    9.477908    6.070391          0.0     1  2018      53   \n",
       "18245    9.134090    9.098407    5.786284          0.0     1  2018      53   \n",
       "18246    9.147945    9.143431    3.768384          0.0     1  2018      53   \n",
       "18247    9.302969    9.298401    3.931826          0.0     1  2018      53   \n",
       "18248    9.393924    9.391757    3.296207          0.0     1  2018      53   \n",
       "\n",
       "       months  \n",
       "0          12  \n",
       "1          12  \n",
       "2          12  \n",
       "3          12  \n",
       "4          11  \n",
       "...       ...  \n",
       "18244       2  \n",
       "18245       1  \n",
       "18246       1  \n",
       "18247       1  \n",
       "18248       1  \n",
       "\n",
       "[17528 rows x 14 columns]"
      ]
     },
     "execution_count": 37,
     "metadata": {},
     "output_type": "execute_result"
    }
   ],
   "source": [
    "new_df2=df[~((df<Q1-(1.5*IQR))|(df>(Q3+(1.5*IQR)))).any(axis=1)]\n",
    "new_df2"
   ]
  },
  {
   "cell_type": "code",
   "execution_count": 38,
   "metadata": {
    "scrolled": true
   },
   "outputs": [
    {
     "name": "stdout",
     "output_type": "stream",
     "text": [
      "36.774617787276014\n"
     ]
    }
   ],
   "source": [
    "percentage_loss=((18249-11538  )/18249)*100\n",
    "print(percentage_loss)"
   ]
  },
  {
   "cell_type": "markdown",
   "metadata": {},
   "source": [
    "the above quartile method we will be loosing 36.77% of data which is too high hence we choose zscoremethod"
   ]
  },
  {
   "cell_type": "code",
   "execution_count": 39,
   "metadata": {
    "scrolled": true
   },
   "outputs": [
    {
     "data": {
      "text/plain": [
       "Index(['Date', 'AveragePrice', 'Total Volume', '4046', '4225', '4770',\n",
       "       'Total Bags', 'Small Bags', 'Large Bags', 'XLarge Bags', 'type', 'year',\n",
       "       'region', 'months'],\n",
       "      dtype='object')"
      ]
     },
     "execution_count": 39,
     "metadata": {},
     "output_type": "execute_result"
    }
   ],
   "source": [
    "df.columns"
   ]
  },
  {
   "cell_type": "code",
   "execution_count": 87,
   "metadata": {
    "scrolled": true
   },
   "outputs": [],
   "source": [
    "from sklearn.model_selection import train_test_split\n",
    "x = df_new.iloc[:,2:13]\n",
    "y = df_new['AveragePrice']"
   ]
  },
  {
   "cell_type": "code",
   "execution_count": 88,
   "metadata": {
    "scrolled": true
   },
   "outputs": [
    {
     "data": {
      "text/plain": [
       "array([[-0.13249789, -0.62742619,  0.35800125, ..., -0.97748783,\n",
       "        -1.22957126, -1.69078431],\n",
       "       [-0.20162572, -0.75550098,  0.28688711, ..., -0.97748783,\n",
       "        -1.22957126, -1.69078431],\n",
       "       [ 0.13526087, -0.70658843,  0.6067806 , ..., -0.97748783,\n",
       "        -1.22957126, -1.69078431],\n",
       "       ...,\n",
       "       [-0.8086277 , -0.58588682, -0.75103402, ...,  1.02303064,\n",
       "         1.96090944,  1.71404749],\n",
       "       [-0.73704662, -0.51197383, -0.681276  , ...,  1.02303064,\n",
       "         1.96090944,  1.71404749],\n",
       "       [-0.70356744, -0.32153998, -0.76541289, ...,  1.02303064,\n",
       "         1.96090944,  1.71404749]])"
      ]
     },
     "execution_count": 88,
     "metadata": {},
     "output_type": "execute_result"
    }
   ],
   "source": [
    "sc=StandardScaler()\n",
    "x=sc.fit_transform(x)\n",
    "x"
   ]
  },
  {
   "cell_type": "code",
   "execution_count": 89,
   "metadata": {
    "scrolled": true
   },
   "outputs": [],
   "source": [
    "y=le.fit_transform(y)"
   ]
  },
  {
   "cell_type": "code",
   "execution_count": 90,
   "metadata": {
    "scrolled": true
   },
   "outputs": [],
   "source": [
    "from sklearn.preprocessing import power_transform\n",
    "x=power_transform(x,method='yeo-johnson')"
   ]
  },
  {
   "cell_type": "markdown",
   "metadata": {},
   "source": [
    "Classification"
   ]
  },
  {
   "cell_type": "code",
   "execution_count": 91,
   "metadata": {},
   "outputs": [],
   "source": [
    "from sklearn.linear_model import LogisticRegression\n",
    "from sklearn.naive_bayes import GaussianNB\n",
    "from sklearn.svm import SVC\n",
    "from sklearn.tree import DecisionTreeClassifier\n",
    "from sklearn.ensemble import RandomForestClassifier\n",
    "from sklearn.model_selection import train_test_split\n",
    "from sklearn.metrics import confusion_matrix\n",
    "from sklearn.metrics import accuracy_score\n",
    "from sklearn.metrics import classification_report"
   ]
  },
  {
   "cell_type": "code",
   "execution_count": 92,
   "metadata": {},
   "outputs": [],
   "source": [
    "x_train, x_test, y_train, y_test = train_test_split(x, y, test_size = 0.2, random_state = 42)"
   ]
  },
  {
   "cell_type": "code",
   "execution_count": 93,
   "metadata": {},
   "outputs": [
    {
     "name": "stdout",
     "output_type": "stream",
     "text": [
      "0.022427810485001403\n",
      "[[0 0 0 ... 0 0 0]\n",
      " [0 0 0 ... 0 0 0]\n",
      " [0 0 0 ... 0 0 0]\n",
      " ...\n",
      " [0 0 0 ... 0 0 0]\n",
      " [0 0 0 ... 0 0 0]\n",
      " [0 0 0 ... 0 0 0]]\n",
      "              precision    recall  f1-score   support\n",
      "\n",
      "           1       0.00      0.00      0.00         1\n",
      "           4       0.00      0.00      0.00         1\n",
      "           5       0.00      0.00      0.00         1\n",
      "           7       0.00      0.00      0.00         1\n",
      "           9       0.00      0.00      0.00         2\n",
      "          10       0.00      0.00      0.00         1\n",
      "          11       0.00      0.00      0.00         3\n",
      "          12       0.00      0.00      0.00         2\n",
      "          13       0.00      0.00      0.00         1\n",
      "          14       0.00      0.00      0.00         2\n",
      "          15       0.00      0.00      0.00         3\n",
      "          16       0.00      0.00      0.00         3\n",
      "          17       0.00      0.00      0.00         2\n",
      "          18       0.00      0.00      0.00         5\n",
      "          19       0.00      0.00      0.00         4\n",
      "          20       0.00      0.00      0.00         3\n",
      "          21       0.00      0.00      0.00         2\n",
      "          22       0.00      0.00      0.00         3\n",
      "          23       0.00      0.00      0.00         9\n",
      "          24       0.00      0.00      0.00         6\n",
      "          25       0.00      0.00      0.00         7\n",
      "          26       0.00      0.00      0.00         6\n",
      "          27       0.00      0.00      0.00        13\n",
      "          28       0.00      0.00      0.00        10\n",
      "          29       0.00      0.00      0.00        10\n",
      "          30       0.00      0.00      0.00        13\n",
      "          31       0.00      0.00      0.00         7\n",
      "          32       0.00      0.00      0.00        14\n",
      "          33       0.00      0.00      0.00        12\n",
      "          34       0.00      0.00      0.00        14\n",
      "          35       0.00      0.00      0.00         9\n",
      "          36       0.00      0.00      0.00        18\n",
      "          37       0.00      0.00      0.00        12\n",
      "          38       0.00      0.00      0.00         9\n",
      "          39       0.00      0.00      0.00         8\n",
      "          40       0.00      0.00      0.00        13\n",
      "          41       0.00      0.00      0.00        19\n",
      "          42       0.00      0.00      0.00        20\n",
      "          43       0.00      0.00      0.00        16\n",
      "          44       0.00      0.00      0.00        24\n",
      "          45       0.00      0.00      0.00        24\n",
      "          46       0.00      0.00      0.00        22\n",
      "          47       0.00      0.00      0.00        33\n",
      "          48       0.00      0.00      0.00        25\n",
      "          49       0.00      0.00      0.00        28\n",
      "          50       0.04      0.17      0.06        29\n",
      "          51       0.03      0.05      0.04        44\n",
      "          52       0.02      0.12      0.04        34\n",
      "          53       0.02      0.03      0.02        38\n",
      "          54       0.00      0.00      0.00        35\n",
      "          55       0.02      0.03      0.02        34\n",
      "          56       0.02      0.08      0.03        36\n",
      "          57       0.01      0.03      0.02        33\n",
      "          58       0.04      0.03      0.03        32\n",
      "          59       0.00      0.00      0.00        38\n",
      "          60       0.00      0.00      0.00        39\n",
      "          61       0.02      0.05      0.03        39\n",
      "          62       0.08      0.07      0.08        40\n",
      "          63       0.00      0.00      0.00        34\n",
      "          64       0.00      0.00      0.00        35\n",
      "          65       0.00      0.00      0.00        42\n",
      "          66       0.04      0.15      0.06        34\n",
      "          67       0.00      0.00      0.00        37\n",
      "          68       0.03      0.05      0.04        42\n",
      "          69       0.05      0.06      0.06        31\n",
      "          70       0.03      0.03      0.03        36\n",
      "          71       0.07      0.07      0.07        41\n",
      "          72       0.00      0.00      0.00        35\n",
      "          73       0.00      0.00      0.00        24\n",
      "          74       0.00      0.00      0.00        24\n",
      "          75       0.00      0.00      0.00        34\n",
      "          76       0.04      0.17      0.06        23\n",
      "          77       0.00      0.00      0.00        38\n",
      "          78       0.00      0.00      0.00        32\n",
      "          79       0.03      0.07      0.04        41\n",
      "          80       0.00      0.00      0.00        22\n",
      "          81       0.00      0.00      0.00        29\n",
      "          82       0.00      0.00      0.00        31\n",
      "          83       0.00      0.00      0.00        25\n",
      "          84       0.00      0.00      0.00        22\n",
      "          85       0.00      0.00      0.00        27\n",
      "          86       0.00      0.00      0.00        35\n",
      "          87       0.00      0.00      0.00        31\n",
      "          88       0.00      0.00      0.00        33\n",
      "          89       0.00      0.00      0.00        44\n",
      "          90       0.00      0.00      0.00        31\n",
      "          91       0.05      0.12      0.07        40\n",
      "          92       0.00      0.00      0.00        32\n",
      "          93       0.00      0.00      0.00        30\n",
      "          94       0.02      0.07      0.03        30\n",
      "          95       0.00      0.00      0.00        24\n",
      "          96       0.00      0.00      0.00        33\n",
      "          97       0.03      0.09      0.05        34\n",
      "          98       0.00      0.00      0.00        35\n",
      "          99       0.20      0.02      0.04        41\n",
      "         100       0.00      0.00      0.00        24\n",
      "         101       0.00      0.00      0.00        41\n",
      "         102       0.01      0.08      0.02        24\n",
      "         103       0.00      0.00      0.00        32\n",
      "         104       0.00      0.00      0.00        29\n",
      "         105       0.00      0.00      0.00        27\n",
      "         106       0.17      0.03      0.06        29\n",
      "         107       0.00      0.00      0.00        37\n",
      "         108       0.00      0.00      0.00        31\n",
      "         109       0.03      0.04      0.03        27\n",
      "         110       0.00      0.00      0.00        24\n",
      "         111       0.00      0.00      0.00        28\n",
      "         112       0.04      0.24      0.06        37\n",
      "         113       0.00      0.00      0.00        33\n",
      "         114       0.00      0.00      0.00        31\n",
      "         115       0.03      0.03      0.03        29\n",
      "         116       0.03      0.04      0.03        28\n",
      "         117       0.00      0.00      0.00        34\n",
      "         118       0.11      0.04      0.05        28\n",
      "         119       0.00      0.00      0.00        29\n",
      "         120       0.00      0.00      0.00        29\n",
      "         121       0.00      0.00      0.00        28\n",
      "         122       0.03      0.04      0.03        27\n",
      "         123       0.00      0.00      0.00        30\n",
      "         124       0.00      0.00      0.00        19\n",
      "         125       0.00      0.00      0.00        24\n",
      "         126       0.00      0.00      0.00        17\n",
      "         127       0.00      0.00      0.00        22\n",
      "         128       0.00      0.00      0.00        17\n",
      "         129       0.00      0.00      0.00        25\n",
      "         130       0.00      0.00      0.00        17\n",
      "         131       0.00      0.00      0.00        21\n",
      "         132       0.00      0.00      0.00        22\n",
      "         133       0.08      0.05      0.06        22\n",
      "         134       0.00      0.00      0.00        18\n",
      "         135       0.03      0.08      0.05        24\n",
      "         136       0.04      0.17      0.07        18\n",
      "         137       0.25      0.05      0.09        19\n",
      "         138       0.00      0.00      0.00        16\n",
      "         139       0.00      0.00      0.00        18\n",
      "         140       0.02      0.07      0.03        15\n",
      "         141       0.00      0.00      0.00        11\n",
      "         142       0.00      0.00      0.00        13\n",
      "         143       0.00      0.00      0.00        20\n",
      "         144       0.00      0.00      0.00        14\n",
      "         145       0.00      0.00      0.00        17\n",
      "         146       0.00      0.00      0.00        13\n",
      "         147       0.00      0.00      0.00        12\n",
      "         148       0.00      0.00      0.00         9\n",
      "         149       0.00      0.00      0.00        11\n",
      "         150       0.00      0.00      0.00        11\n",
      "         151       0.00      0.00      0.00         8\n",
      "         152       0.00      0.00      0.00        13\n",
      "         153       0.00      0.00      0.00        10\n",
      "         154       0.00      0.00      0.00        13\n",
      "         155       0.00      0.00      0.00        10\n",
      "         156       0.00      0.00      0.00         5\n",
      "         157       0.00      0.00      0.00         9\n",
      "         158       0.00      0.00      0.00         5\n",
      "         159       0.14      0.09      0.11        11\n",
      "         160       0.00      0.00      0.00         5\n",
      "         161       0.00      0.00      0.00         6\n",
      "         162       0.00      0.00      0.00         8\n",
      "         163       0.00      0.00      0.00         3\n",
      "         164       0.00      0.00      0.00         8\n",
      "         165       0.00      0.00      0.00         5\n",
      "         166       0.00      0.00      0.00         6\n",
      "         167       0.00      0.00      0.00         3\n",
      "         168       0.00      0.00      0.00         8\n",
      "         169       0.00      0.00      0.00         7\n",
      "         170       0.00      0.00      0.00         6\n",
      "         171       0.00      0.00      0.00         8\n",
      "         172       0.00      0.00      0.00         3\n",
      "         173       0.00      0.00      0.00         7\n",
      "         174       0.00      0.00      0.00         3\n",
      "         175       0.00      0.00      0.00         8\n",
      "         176       0.00      0.00      0.00         6\n",
      "         177       0.00      0.00      0.00         5\n",
      "         178       0.00      0.00      0.00         5\n",
      "         180       0.00      0.00      0.00         4\n",
      "         181       0.00      0.00      0.00         2\n",
      "         182       0.00      0.00      0.00         3\n",
      "         183       0.00      0.00      0.00         2\n",
      "         184       0.00      0.00      0.00         5\n",
      "         185       0.00      0.00      0.00         7\n",
      "         186       0.00      0.00      0.00         5\n",
      "         187       0.00      0.00      0.00         2\n",
      "         188       0.00      0.00      0.00         1\n",
      "         189       0.00      0.00      0.00         5\n",
      "         190       0.00      0.00      0.00         1\n",
      "         191       0.00      0.00      0.00         1\n",
      "         192       0.00      0.00      0.00         1\n",
      "         193       0.00      0.00      0.00         4\n",
      "         194       0.00      0.00      0.00         1\n",
      "         195       0.00      0.00      0.00         2\n",
      "         197       0.00      0.00      0.00         3\n",
      "         198       0.00      0.00      0.00         1\n",
      "         199       0.00      0.00      0.00         2\n",
      "         200       0.00      0.00      0.00         1\n",
      "         201       0.00      0.00      0.00         1\n",
      "         204       0.00      0.00      0.00         1\n",
      "         208       0.00      0.00      0.00         3\n",
      "         210       0.00      0.00      0.00         3\n",
      "         211       0.00      0.00      0.00         2\n",
      "         212       0.00      0.00      0.00         3\n",
      "         213       0.00      0.00      0.00         1\n",
      "         214       0.00      0.00      0.00         1\n",
      "\n",
      "    accuracy                           0.02      3567\n",
      "   macro avg       0.01      0.01      0.01      3567\n",
      "weighted avg       0.02      0.02      0.01      3567\n",
      "\n"
     ]
    }
   ],
   "source": [
    "lr=LogisticRegression()\n",
    "\n",
    "lr.fit(x_train,y_train)\n",
    "lr.score(x_train,y_train)\n",
    "predlr=lr.predict(x_test)\n",
    "print(accuracy_score(y_test,predlr))\n",
    "print(confusion_matrix(y_test,predlr))\n",
    "print(classification_report(y_test,predlr))"
   ]
  },
  {
   "cell_type": "code",
   "execution_count": 94,
   "metadata": {},
   "outputs": [],
   "source": [
    "gnb=GaussianNB()"
   ]
  },
  {
   "cell_type": "code",
   "execution_count": null,
   "metadata": {
    "scrolled": true
   },
   "outputs": [],
   "source": [
    "gnb.fit(x_train,y_train)\n",
    "gnb.score(x_train,y_train)\n",
    "predgnb=gnb.predict(x_test)\n",
    "print(accuracy_score(y_test,predgnb))\n",
    "print(confusion_matrix(y_test,predgnb))\n",
    "print(classification_report(y_test,predgnb))"
   ]
  },
  {
   "cell_type": "code",
   "execution_count": null,
   "metadata": {},
   "outputs": [],
   "source": [
    "svc=SVC()\n",
    "svc.fit(x_train,y_train)\n",
    "svc.score(x_train,y_train)\n",
    "predsvc=svc.predict(x_test)\n",
    "print(accuracy_score(y_test,predsvc))\n",
    "print(confusion_matrix(y_test,predsvc))\n",
    "print(classification_report(y_test,predsvc))"
   ]
  },
  {
   "cell_type": "code",
   "execution_count": null,
   "metadata": {},
   "outputs": [],
   "source": [
    "svc=SVC(kernel='poly')\n",
    "svc.fit(x_train,y_train)\n",
    "svc.score(x_train,y_train)\n",
    "predsvc=svc.predict(x_test)\n",
    "print(accuracy_score(y_test,predsvc))\n",
    "print(confusion_matrix(y_test,predsvc))\n",
    "print(classification_report(y_test,predsvc))"
   ]
  },
  {
   "cell_type": "code",
   "execution_count": null,
   "metadata": {},
   "outputs": [],
   "source": [
    "svc=SVC(kernel='rbf')\n",
    "svc.fit(x_train,y_train)\n",
    "svc.score(x_train,y_train)\n",
    "predsvc=svc.predict(x_test)\n",
    "print(accuracy_score(y_test,predsvc))\n",
    "print(confusion_matrix(y_test,predsvc))\n",
    "print(classification_report(y_test,predsvc))"
   ]
  },
  {
   "cell_type": "code",
   "execution_count": null,
   "metadata": {},
   "outputs": [],
   "source": [
    "svc=SVC(kernel='poly')\n",
    "svc.fit(x_train,y_train)\n",
    "svc.score(x_train,y_train)\n",
    "predsvc=svc.predict(x_test)\n",
    "print(accuracy_score(y_test,predsvc))\n",
    "print(confusion_matrix(y_test,predsvc))\n",
    "print(classification_report(y_test,predsvc))"
   ]
  },
  {
   "cell_type": "code",
   "execution_count": 96,
   "metadata": {},
   "outputs": [
    {
     "name": "stdout",
     "output_type": "stream",
     "text": [
      "0.03336136809643959\n",
      "[[0 0 0 ... 0 0 0]\n",
      " [0 0 0 ... 0 0 0]\n",
      " [0 0 0 ... 0 0 0]\n",
      " ...\n",
      " [0 0 0 ... 1 0 0]\n",
      " [0 0 0 ... 0 0 0]\n",
      " [0 0 0 ... 0 0 0]]\n",
      "              precision    recall  f1-score   support\n",
      "\n",
      "           0       0.00      0.00      0.00         0\n",
      "           1       0.00      0.00      0.00         1\n",
      "           3       0.00      0.00      0.00         0\n",
      "           4       0.00      0.00      0.00         1\n",
      "           5       0.00      0.00      0.00         1\n",
      "           6       0.00      0.00      0.00         0\n",
      "           7       0.00      0.00      0.00         1\n",
      "           9       0.00      0.00      0.00         2\n",
      "          10       0.00      0.00      0.00         1\n",
      "          11       0.00      0.00      0.00         3\n",
      "          12       0.00      0.00      0.00         2\n",
      "          13       0.00      0.00      0.00         1\n",
      "          14       0.00      0.00      0.00         2\n",
      "          15       0.00      0.00      0.00         3\n",
      "          16       0.00      0.00      0.00         3\n",
      "          17       0.00      0.00      0.00         2\n",
      "          18       0.00      0.00      0.00         5\n",
      "          19       0.00      0.00      0.00         4\n",
      "          20       0.00      0.00      0.00         3\n",
      "          21       0.00      0.00      0.00         2\n",
      "          22       0.00      0.00      0.00         3\n",
      "          23       0.17      0.22      0.19         9\n",
      "          24       0.00      0.00      0.00         6\n",
      "          25       0.00      0.00      0.00         7\n",
      "          26       0.00      0.00      0.00         6\n",
      "          27       0.06      0.08      0.06        13\n",
      "          28       0.00      0.00      0.00        10\n",
      "          29       0.04      0.10      0.06        10\n",
      "          30       0.00      0.00      0.00        13\n",
      "          31       0.08      0.14      0.10         7\n",
      "          32       0.00      0.00      0.00        14\n",
      "          33       0.00      0.00      0.00        12\n",
      "          34       0.00      0.00      0.00        14\n",
      "          35       0.00      0.00      0.00         9\n",
      "          36       0.06      0.06      0.06        18\n",
      "          37       0.00      0.00      0.00        12\n",
      "          38       0.00      0.00      0.00         9\n",
      "          39       0.00      0.00      0.00         8\n",
      "          40       0.00      0.00      0.00        13\n",
      "          41       0.03      0.05      0.04        19\n",
      "          42       0.00      0.00      0.00        20\n",
      "          43       0.00      0.00      0.00        16\n",
      "          44       0.05      0.04      0.05        24\n",
      "          45       0.06      0.08      0.07        24\n",
      "          46       0.05      0.09      0.06        22\n",
      "          47       0.04      0.03      0.04        33\n",
      "          48       0.06      0.12      0.08        25\n",
      "          49       0.06      0.11      0.08        28\n",
      "          50       0.06      0.10      0.07        29\n",
      "          51       0.08      0.07      0.07        44\n",
      "          52       0.05      0.09      0.07        34\n",
      "          53       0.06      0.05      0.06        38\n",
      "          54       0.02      0.03      0.03        35\n",
      "          55       0.05      0.06      0.05        34\n",
      "          56       0.04      0.06      0.05        36\n",
      "          57       0.10      0.12      0.11        33\n",
      "          58       0.07      0.09      0.08        32\n",
      "          59       0.00      0.00      0.00        38\n",
      "          60       0.00      0.00      0.00        39\n",
      "          61       0.00      0.00      0.00        39\n",
      "          62       0.00      0.00      0.00        40\n",
      "          63       0.00      0.00      0.00        34\n",
      "          64       0.03      0.03      0.03        35\n",
      "          65       0.00      0.00      0.00        42\n",
      "          66       0.00      0.00      0.00        34\n",
      "          67       0.02      0.03      0.02        37\n",
      "          68       0.00      0.00      0.00        42\n",
      "          69       0.00      0.00      0.00        31\n",
      "          70       0.00      0.00      0.00        36\n",
      "          71       0.03      0.02      0.02        41\n",
      "          72       0.09      0.09      0.09        35\n",
      "          73       0.04      0.04      0.04        24\n",
      "          74       0.03      0.04      0.04        24\n",
      "          75       0.00      0.00      0.00        34\n",
      "          76       0.02      0.04      0.03        23\n",
      "          77       0.12      0.08      0.10        38\n",
      "          78       0.03      0.03      0.03        32\n",
      "          79       0.10      0.10      0.10        41\n",
      "          80       0.00      0.00      0.00        22\n",
      "          81       0.00      0.00      0.00        29\n",
      "          82       0.00      0.00      0.00        31\n",
      "          83       0.00      0.00      0.00        25\n",
      "          84       0.06      0.09      0.07        22\n",
      "          85       0.00      0.00      0.00        27\n",
      "          86       0.03      0.03      0.03        35\n",
      "          87       0.03      0.03      0.03        31\n",
      "          88       0.03      0.03      0.03        33\n",
      "          89       0.09      0.09      0.09        44\n",
      "          90       0.00      0.00      0.00        31\n",
      "          91       0.04      0.05      0.05        40\n",
      "          92       0.05      0.06      0.05        32\n",
      "          93       0.00      0.00      0.00        30\n",
      "          94       0.06      0.07      0.06        30\n",
      "          95       0.00      0.00      0.00        24\n",
      "          96       0.03      0.06      0.04        33\n",
      "          97       0.00      0.00      0.00        34\n",
      "          98       0.00      0.00      0.00        35\n",
      "          99       0.08      0.05      0.06        41\n",
      "         100       0.00      0.00      0.00        24\n",
      "         101       0.06      0.07      0.07        41\n",
      "         102       0.05      0.08      0.06        24\n",
      "         103       0.07      0.06      0.06        32\n",
      "         104       0.08      0.07      0.07        29\n",
      "         105       0.00      0.00      0.00        27\n",
      "         106       0.06      0.03      0.04        29\n",
      "         107       0.00      0.00      0.00        37\n",
      "         108       0.00      0.00      0.00        31\n",
      "         109       0.08      0.07      0.08        27\n",
      "         110       0.00      0.00      0.00        24\n",
      "         111       0.00      0.00      0.00        28\n",
      "         112       0.03      0.03      0.03        37\n",
      "         113       0.00      0.00      0.00        33\n",
      "         114       0.11      0.06      0.08        31\n",
      "         115       0.06      0.03      0.04        29\n",
      "         116       0.07      0.04      0.05        28\n",
      "         117       0.00      0.00      0.00        34\n",
      "         118       0.06      0.04      0.04        28\n",
      "         119       0.00      0.00      0.00        29\n",
      "         120       0.00      0.00      0.00        29\n",
      "         121       0.00      0.00      0.00        28\n",
      "         122       0.06      0.07      0.07        27\n",
      "         123       0.08      0.03      0.05        30\n",
      "         124       0.00      0.00      0.00        19\n",
      "         125       0.06      0.04      0.05        24\n",
      "         126       0.00      0.00      0.00        17\n",
      "         127       0.00      0.00      0.00        22\n",
      "         128       0.05      0.06      0.05        17\n",
      "         129       0.12      0.04      0.06        25\n",
      "         130       0.00      0.00      0.00        17\n",
      "         131       0.18      0.10      0.12        21\n",
      "         132       0.08      0.05      0.06        22\n",
      "         133       0.00      0.00      0.00        22\n",
      "         134       0.00      0.00      0.00        18\n",
      "         135       0.00      0.00      0.00        24\n",
      "         136       0.09      0.11      0.10        18\n",
      "         137       0.00      0.00      0.00        19\n",
      "         138       0.00      0.00      0.00        16\n",
      "         139       0.00      0.00      0.00        18\n",
      "         140       0.12      0.07      0.09        15\n",
      "         141       0.08      0.09      0.09        11\n",
      "         142       0.00      0.00      0.00        13\n",
      "         143       0.22      0.10      0.14        20\n",
      "         144       0.08      0.07      0.08        14\n",
      "         145       0.00      0.00      0.00        17\n",
      "         146       0.10      0.08      0.09        13\n",
      "         147       0.00      0.00      0.00        12\n",
      "         148       0.00      0.00      0.00         9\n",
      "         149       0.00      0.00      0.00        11\n",
      "         150       0.00      0.00      0.00        11\n",
      "         151       0.00      0.00      0.00         8\n",
      "         152       0.00      0.00      0.00        13\n",
      "         153       0.17      0.10      0.12        10\n",
      "         154       0.00      0.00      0.00        13\n",
      "         155       0.00      0.00      0.00        10\n",
      "         156       0.00      0.00      0.00         5\n",
      "         157       0.00      0.00      0.00         9\n",
      "         158       0.00      0.00      0.00         5\n",
      "         159       0.14      0.09      0.11        11\n",
      "         160       0.00      0.00      0.00         5\n",
      "         161       0.00      0.00      0.00         6\n",
      "         162       0.00      0.00      0.00         8\n",
      "         163       0.00      0.00      0.00         3\n",
      "         164       0.00      0.00      0.00         8\n",
      "         165       0.00      0.00      0.00         5\n",
      "         166       0.00      0.00      0.00         6\n",
      "         167       0.00      0.00      0.00         3\n",
      "         168       0.00      0.00      0.00         8\n",
      "         169       0.25      0.14      0.18         7\n",
      "         170       0.00      0.00      0.00         6\n",
      "         171       0.00      0.00      0.00         8\n",
      "         172       0.00      0.00      0.00         3\n",
      "         173       0.00      0.00      0.00         7\n",
      "         174       0.00      0.00      0.00         3\n",
      "         175       0.00      0.00      0.00         8\n",
      "         176       0.00      0.00      0.00         6\n",
      "         177       0.00      0.00      0.00         5\n",
      "         178       0.00      0.00      0.00         5\n",
      "         179       0.00      0.00      0.00         0\n",
      "         180       0.00      0.00      0.00         4\n",
      "         181       0.00      0.00      0.00         2\n",
      "         182       0.00      0.00      0.00         3\n",
      "         183       0.00      0.00      0.00         2\n",
      "         184       0.00      0.00      0.00         5\n",
      "         185       0.00      0.00      0.00         7\n",
      "         186       0.20      0.20      0.20         5\n",
      "         187       0.00      0.00      0.00         2\n",
      "         188       0.00      0.00      0.00         1\n",
      "         189       0.50      0.20      0.29         5\n",
      "         190       0.00      0.00      0.00         1\n",
      "         191       0.00      0.00      0.00         1\n",
      "         192       0.00      0.00      0.00         1\n",
      "         193       0.00      0.00      0.00         4\n",
      "         194       0.00      0.00      0.00         1\n",
      "         195       0.00      0.00      0.00         2\n",
      "         196       0.00      0.00      0.00         0\n",
      "         197       0.00      0.00      0.00         3\n",
      "         198       0.00      0.00      0.00         1\n",
      "         199       0.00      0.00      0.00         2\n",
      "         200       0.00      0.00      0.00         1\n",
      "         201       0.00      0.00      0.00         1\n",
      "         203       0.00      0.00      0.00         0\n",
      "         204       0.00      0.00      0.00         1\n",
      "         207       0.00      0.00      0.00         0\n",
      "         208       0.00      0.00      0.00         3\n",
      "         210       0.00      0.00      0.00         3\n",
      "         211       0.00      0.00      0.00         2\n",
      "         212       0.50      0.33      0.40         3\n",
      "         213       0.00      0.00      0.00         1\n",
      "         214       0.00      0.00      0.00         1\n",
      "\n",
      "    accuracy                           0.03      3567\n",
      "   macro avg       0.03      0.03      0.03      3567\n",
      "weighted avg       0.03      0.03      0.03      3567\n",
      "\n"
     ]
    }
   ],
   "source": [
    "from sklearn.neighbors import KNeighborsClassifier\n",
    "knn=KNeighborsClassifier()\n",
    "\n",
    "knn.fit(x_train,y_train)\n",
    "knn.score(x_train,y_train)\n",
    "predknn=knn.predict(x_test)\n",
    "print(accuracy_score(y_test,predknn))\n",
    "print(confusion_matrix(y_test,predknn))\n",
    "print(classification_report(y_test,predknn))"
   ]
  },
  {
   "cell_type": "code",
   "execution_count": null,
   "metadata": {},
   "outputs": [],
   "source": [
    "dt=DecisionTreeClassifier()\n",
    "\n",
    "dt.fit(x_train,y_train)\n",
    "dt.score(x_train,y_train)\n",
    "preddt=dt.predict(x_test)\n",
    "print(accuracy_score(y_test,preddt))\n",
    "print(confusion_matrix(y_test,preddt))\n",
    "print(classification_report(y_test,preddt))"
   ]
  },
  {
   "cell_type": "code",
   "execution_count": 103,
   "metadata": {},
   "outputs": [
    {
     "name": "stdout",
     "output_type": "stream",
     "text": [
      "0.04513596860106532\n"
     ]
    }
   ],
   "source": [
    "from sklearn.metrics import roc_curve\n",
    "from sklearn.metrics import roc_auc_score\n",
    "from sklearn.tree import DecisionTreeClassifier\n",
    "dt=DecisionTreeClassifier()\n",
    "dt.fit(x_train,y_train)\n",
    "p=dt.predict(x_test)\n",
    "print(accuracy_score(y_test,preddt))\n",
    "\n",
    "\n"
   ]
  },
  {
   "cell_type": "code",
   "execution_count": 111,
   "metadata": {},
   "outputs": [
    {
     "data": {
      "text/plain": [
       "array([0., 0., 0., ..., 0., 0., 0.])"
      ]
     },
     "execution_count": 111,
     "metadata": {},
     "output_type": "execute_result"
    }
   ],
   "source": [
    "y_pred_prob=dt.predict_proba(x_test)[:,1]\n",
    "y_pred_prob\n",
    "\n",
    "\n"
   ]
  },
  {
   "cell_type": "code",
   "execution_count": 112,
   "metadata": {},
   "outputs": [
    {
     "ename": "ValueError",
     "evalue": "multiclass format is not supported",
     "output_type": "error",
     "traceback": [
      "\u001b[1;31m---------------------------------------------------------------------------\u001b[0m",
      "\u001b[1;31mValueError\u001b[0m                                Traceback (most recent call last)",
      "\u001b[1;32m<ipython-input-112-b9dfdb29b407>\u001b[0m in \u001b[0;36m<module>\u001b[1;34m\u001b[0m\n\u001b[1;32m----> 1\u001b[1;33m \u001b[0mfpr\u001b[0m\u001b[1;33m,\u001b[0m\u001b[0mtpr\u001b[0m\u001b[1;33m,\u001b[0m\u001b[0mthresholds\u001b[0m\u001b[1;33m=\u001b[0m\u001b[0mroc_curve\u001b[0m\u001b[1;33m(\u001b[0m\u001b[0my_test\u001b[0m\u001b[1;33m,\u001b[0m\u001b[0my_pred_prob\u001b[0m\u001b[1;33m)\u001b[0m\u001b[1;33m\u001b[0m\u001b[1;33m\u001b[0m\u001b[0m\n\u001b[0m",
      "\u001b[1;32m~\\Anaconda3\\lib\\site-packages\\sklearn\\utils\\validation.py\u001b[0m in \u001b[0;36minner_f\u001b[1;34m(*args, **kwargs)\u001b[0m\n\u001b[0;32m     71\u001b[0m                           FutureWarning)\n\u001b[0;32m     72\u001b[0m         \u001b[0mkwargs\u001b[0m\u001b[1;33m.\u001b[0m\u001b[0mupdate\u001b[0m\u001b[1;33m(\u001b[0m\u001b[1;33m{\u001b[0m\u001b[0mk\u001b[0m\u001b[1;33m:\u001b[0m \u001b[0marg\u001b[0m \u001b[1;32mfor\u001b[0m \u001b[0mk\u001b[0m\u001b[1;33m,\u001b[0m \u001b[0marg\u001b[0m \u001b[1;32min\u001b[0m \u001b[0mzip\u001b[0m\u001b[1;33m(\u001b[0m\u001b[0msig\u001b[0m\u001b[1;33m.\u001b[0m\u001b[0mparameters\u001b[0m\u001b[1;33m,\u001b[0m \u001b[0margs\u001b[0m\u001b[1;33m)\u001b[0m\u001b[1;33m}\u001b[0m\u001b[1;33m)\u001b[0m\u001b[1;33m\u001b[0m\u001b[1;33m\u001b[0m\u001b[0m\n\u001b[1;32m---> 73\u001b[1;33m         \u001b[1;32mreturn\u001b[0m \u001b[0mf\u001b[0m\u001b[1;33m(\u001b[0m\u001b[1;33m**\u001b[0m\u001b[0mkwargs\u001b[0m\u001b[1;33m)\u001b[0m\u001b[1;33m\u001b[0m\u001b[1;33m\u001b[0m\u001b[0m\n\u001b[0m\u001b[0;32m     74\u001b[0m     \u001b[1;32mreturn\u001b[0m \u001b[0minner_f\u001b[0m\u001b[1;33m\u001b[0m\u001b[1;33m\u001b[0m\u001b[0m\n\u001b[0;32m     75\u001b[0m \u001b[1;33m\u001b[0m\u001b[0m\n",
      "\u001b[1;32m~\\Anaconda3\\lib\\site-packages\\sklearn\\metrics\\_ranking.py\u001b[0m in \u001b[0;36mroc_curve\u001b[1;34m(y_true, y_score, pos_label, sample_weight, drop_intermediate)\u001b[0m\n\u001b[0;32m    773\u001b[0m \u001b[1;33m\u001b[0m\u001b[0m\n\u001b[0;32m    774\u001b[0m     \"\"\"\n\u001b[1;32m--> 775\u001b[1;33m     fps, tps, thresholds = _binary_clf_curve(\n\u001b[0m\u001b[0;32m    776\u001b[0m         y_true, y_score, pos_label=pos_label, sample_weight=sample_weight)\n\u001b[0;32m    777\u001b[0m \u001b[1;33m\u001b[0m\u001b[0m\n",
      "\u001b[1;32m~\\Anaconda3\\lib\\site-packages\\sklearn\\metrics\\_ranking.py\u001b[0m in \u001b[0;36m_binary_clf_curve\u001b[1;34m(y_true, y_score, pos_label, sample_weight)\u001b[0m\n\u001b[0;32m    537\u001b[0m     if not (y_type == \"binary\" or\n\u001b[0;32m    538\u001b[0m             (y_type == \"multiclass\" and pos_label is not None)):\n\u001b[1;32m--> 539\u001b[1;33m         \u001b[1;32mraise\u001b[0m \u001b[0mValueError\u001b[0m\u001b[1;33m(\u001b[0m\u001b[1;34m\"{0} format is not supported\"\u001b[0m\u001b[1;33m.\u001b[0m\u001b[0mformat\u001b[0m\u001b[1;33m(\u001b[0m\u001b[0my_type\u001b[0m\u001b[1;33m)\u001b[0m\u001b[1;33m)\u001b[0m\u001b[1;33m\u001b[0m\u001b[1;33m\u001b[0m\u001b[0m\n\u001b[0m\u001b[0;32m    540\u001b[0m \u001b[1;33m\u001b[0m\u001b[0m\n\u001b[0;32m    541\u001b[0m     \u001b[0mcheck_consistent_length\u001b[0m\u001b[1;33m(\u001b[0m\u001b[0my_true\u001b[0m\u001b[1;33m,\u001b[0m \u001b[0my_score\u001b[0m\u001b[1;33m,\u001b[0m \u001b[0msample_weight\u001b[0m\u001b[1;33m)\u001b[0m\u001b[1;33m\u001b[0m\u001b[1;33m\u001b[0m\u001b[0m\n",
      "\u001b[1;31mValueError\u001b[0m: multiclass format is not supported"
     ]
    }
   ],
   "source": [
    "\n",
    "\n"
   ]
  },
  {
   "cell_type": "code",
   "execution_count": 113,
   "metadata": {},
   "outputs": [
    {
     "ename": "NameError",
     "evalue": "name 'fpr' is not defined",
     "output_type": "error",
     "traceback": [
      "\u001b[1;31m---------------------------------------------------------------------------\u001b[0m",
      "\u001b[1;31mNameError\u001b[0m                                 Traceback (most recent call last)",
      "\u001b[1;32m<ipython-input-113-0814788f8e56>\u001b[0m in \u001b[0;36m<module>\u001b[1;34m\u001b[0m\n\u001b[0;32m      1\u001b[0m \u001b[0mplt\u001b[0m\u001b[1;33m.\u001b[0m\u001b[0mplot\u001b[0m\u001b[1;33m(\u001b[0m\u001b[1;33m[\u001b[0m\u001b[1;36m0\u001b[0m\u001b[1;33m,\u001b[0m\u001b[1;36m1\u001b[0m\u001b[1;33m]\u001b[0m\u001b[1;33m,\u001b[0m\u001b[1;33m[\u001b[0m\u001b[1;36m0\u001b[0m\u001b[1;33m,\u001b[0m\u001b[1;36m1\u001b[0m\u001b[1;33m]\u001b[0m\u001b[1;33m,\u001b[0m\u001b[1;34m'k--'\u001b[0m\u001b[1;33m)\u001b[0m\u001b[1;33m\u001b[0m\u001b[1;33m\u001b[0m\u001b[0m\n\u001b[1;32m----> 2\u001b[1;33m \u001b[0mplt\u001b[0m\u001b[1;33m.\u001b[0m\u001b[0mplot\u001b[0m\u001b[1;33m(\u001b[0m\u001b[0mfpr\u001b[0m\u001b[1;33m,\u001b[0m\u001b[0mtpr\u001b[0m\u001b[1;33m,\u001b[0m\u001b[0mlabel\u001b[0m\u001b[1;33m=\u001b[0m\u001b[1;34m'Decision tree classifier'\u001b[0m\u001b[1;33m)\u001b[0m\u001b[1;33m\u001b[0m\u001b[1;33m\u001b[0m\u001b[0m\n\u001b[0m\u001b[0;32m      3\u001b[0m \u001b[0mplt\u001b[0m\u001b[1;33m.\u001b[0m\u001b[0mxlabel\u001b[0m\u001b[1;33m(\u001b[0m\u001b[1;34m'False result heart disease'\u001b[0m\u001b[1;33m)\u001b[0m\u001b[1;33m\u001b[0m\u001b[1;33m\u001b[0m\u001b[0m\n\u001b[0;32m      4\u001b[0m \u001b[0mplt\u001b[0m\u001b[1;33m.\u001b[0m\u001b[0mylabel\u001b[0m\u001b[1;33m(\u001b[0m\u001b[1;34m'True result heart disease'\u001b[0m\u001b[1;33m)\u001b[0m\u001b[1;33m\u001b[0m\u001b[1;33m\u001b[0m\u001b[0m\n\u001b[0;32m      5\u001b[0m \u001b[0mplt\u001b[0m\u001b[1;33m.\u001b[0m\u001b[0mtitle\u001b[0m\u001b[1;33m(\u001b[0m\u001b[1;34m'Decision Tree Classifier'\u001b[0m\u001b[1;33m)\u001b[0m\u001b[1;33m\u001b[0m\u001b[1;33m\u001b[0m\u001b[0m\n",
      "\u001b[1;31mNameError\u001b[0m: name 'fpr' is not defined"
     ]
    },
    {
     "data": {
      "image/png": "[encoded data removed]",
      "text/plain": [
       "<Figure size 432x288 with 1 Axes>"
      ]
     },
     "metadata": {
      "needs_background": "light"
     },
     "output_type": "display_data"
    }
   ],
   "source": [
    "plt.plot([0,1],[0,1],'k--')\n",
    "plt.plot(fpr,tpr,label='Decision tree classifier')\n",
    "plt.xlabel('False result heart disease')\n",
    "plt.ylabel('True result heart disease')\n",
    "plt.title('Decision Tree Classifier')\n",
    "plt.show()\n",
    "auc_score=roc_auc_score(y_test,dt.predict(x_test))\n",
    "auc_score"
   ]
  },
  {
   "cell_type": "markdown",
   "metadata": {},
   "source": [
    "REGRESSOR MODEL BUILDING"
   ]
  },
  {
   "cell_type": "code",
   "execution_count": null,
   "metadata": {},
   "outputs": [],
   "source": []
  },
  {
   "cell_type": "code",
   "execution_count": 52,
   "metadata": {
    "scrolled": true
   },
   "outputs": [],
   "source": [
    "from sklearn.model_selection import train_test_split\n",
    "from sklearn.linear_model import LogisticRegression\n",
    "lr=LogisticRegression()\n",
    "from sklearn.metrics import r2_score\n",
    "from sklearn import linear_model"
   ]
  },
  {
   "cell_type": "code",
   "execution_count": 53,
   "metadata": {
    "scrolled": true
   },
   "outputs": [
    {
     "name": "stdout",
     "output_type": "stream",
     "text": [
      "max r2 score corresponding to:- 81 is 0.5637829007177882\n"
     ]
    }
   ],
   "source": [
    "max_r_score=0\n",
    "for r_state in range (30,100):\n",
    "    x_train,x_test,y_train,y_test=train_test_split(x,y,random_state=r_state,test_size=0.20) \n",
    "    regr=linear_model.LinearRegression()\n",
    "    regr.fit(x_train,y_train)\n",
    "    y_pred=regr.predict(x_test)\n",
    "    r2_scr=r2_score(y_test,y_pred)\n",
    "    if r2_scr>max_r_score:\n",
    "        max_r_score=r2_scr\n",
    "        final_r_state=r_state\n",
    "        \n",
    "print(\"max r2 score corresponding to:-\",final_r_state,\"is\",max_r_score)\n"
   ]
  },
  {
   "cell_type": "code",
   "execution_count": 54,
   "metadata": {
    "scrolled": true
   },
   "outputs": [],
   "source": [
    "x_train,x_test,y_train,y_test=train_test_split(x,y,random_state=81,test_size=0.20) \n"
   ]
  },
  {
   "cell_type": "code",
   "execution_count": 55,
   "metadata": {
    "scrolled": true
   },
   "outputs": [
    {
     "data": {
      "text/plain": [
       "0.17130094011665808"
      ]
     },
     "execution_count": 55,
     "metadata": {},
     "output_type": "execute_result"
    }
   ],
   "source": [
    "from sklearn.model_selection import cross_val_score\n",
    "cross_val_score(linear_model.LinearRegression(),x,y,cv=10,scoring=\"r2\").mean()"
   ]
  },
  {
   "cell_type": "markdown",
   "metadata": {},
   "source": [
    "LINEAR REGRESSION"
   ]
  },
  {
   "cell_type": "code",
   "execution_count": 56,
   "metadata": {
    "scrolled": true
   },
   "outputs": [],
   "source": [
    "x_train,x_test,y_train,y_test=train_test_split(x,y,random_state=81,test_size=0.20) \n",
    "lreg=linear_model.LinearRegression()\n",
    "lreg.fit(x_train,y_train)\n",
    "y_pred=lreg.predict(x_test)"
   ]
  },
  {
   "cell_type": "code",
   "execution_count": 57,
   "metadata": {
    "scrolled": true
   },
   "outputs": [
    {
     "name": "stdout",
     "output_type": "stream",
     "text": [
      "r2 score is  <function r2_score at 0x00000210ADC74AF0> (array([[-1.34366435, -0.39059947, -1.54226769, ...,  1.02303064,\n",
      "        -0.10422044, -0.40001389],\n",
      "       [ 0.34242636,  0.34837508,  0.24206969, ..., -0.97748783,\n",
      "        -1.27486262, -1.24530269],\n",
      "       [-0.17611796,  0.26302649, -0.78611128, ..., -0.97748783,\n",
      "        -1.27486262, -1.50682143],\n",
      "       ...,\n",
      "       [-1.98167416, -1.41111424, -1.16984869, ...,  1.02303064,\n",
      "        -0.10422044, -0.78915657],\n",
      "       [-1.15067119, -0.35870072, -1.56871409, ...,  1.02303064,\n",
      "        -0.10422044,  0.30733867],\n",
      "       [-1.15626982, -0.43594407, -1.47499234, ...,  1.02303064,\n",
      "        -0.10422044,  0.30733867]]), array([124.04675719,  63.48683308,  59.08407219, ..., 151.38947976,\n",
      "       113.76922217, 115.62986779]))\n",
      "RMSE is : 25.78404049008242\n"
     ]
    }
   ],
   "source": [
    "from sklearn.metrics import r2_score\n",
    "from sklearn.metrics import mean_squared_error\n",
    "print (\"r2 score is \",r2_score,(x_test,y_pred))\n",
    "print(\"RMSE is :\",np.sqrt(mean_squared_error(y_test,y_pred)))"
   ]
  },
  {
   "cell_type": "code",
   "execution_count": 58,
   "metadata": {
    "scrolled": true
   },
   "outputs": [],
   "source": [
    "from sklearn.model_selection import GridSearchCV\n",
    "from sklearn.model_selection import cross_val_score\n",
    "import warnings\n",
    "warnings.filterwarnings('ignore')"
   ]
  },
  {
   "cell_type": "markdown",
   "metadata": {},
   "source": [
    "#LASSO REGRESSION"
   ]
  },
  {
   "cell_type": "code",
   "execution_count": null,
   "metadata": {
    "scrolled": true
   },
   "outputs": [],
   "source": [
    "from sklearn.linear_model import Lasso\n",
    "\n",
    "parameters={'alpha':[.0001,.001,.01,.1,1,10],'random_state':list(range(0,10))}\n",
    "ls=Lasso()\n",
    "clf= GridSearchCV(ls,parameters)\n",
    "clf.fit(x_train,y_train)\n",
    "\n",
    "print(clf.best_params_)"
   ]
  },
  {
   "cell_type": "code",
   "execution_count": null,
   "metadata": {
    "scrolled": true
   },
   "outputs": [],
   "source": [
    "ls=Lasso(alpha=0.0001,random_state=0)\n",
    "ls.fit(x_train,y_train)\n",
    "ls.score(x_train,y_train)\n",
    "pred_ls=ls.predict(x_test)\n",
    "\n",
    "lss=r2_score(y_test,pred_ls)\n",
    "for j in range (2,10):\n",
    "    lsscore=cross_val_score(ls,x,y,cv=j)\n",
    "    lsc=lsscore.mean()\n",
    "    print(\"At cv:-\",j)\n",
    "    print(\"Cross validation score is :-\",lsc*100)\n",
    "    print(\"R2_score is:-\",lss*100)\n",
    "    print(\"\\n\")"
   ]
  },
  {
   "cell_type": "code",
   "execution_count": null,
   "metadata": {
    "scrolled": true
   },
   "outputs": [],
   "source": [
    "print (\"at cv :-\",5)\n",
    "print(\"at cross validation score is :-\",22.6594)\n",
    "print(\"r2_score:-\",52.9190)"
   ]
  },
  {
   "cell_type": "code",
   "execution_count": 61,
   "metadata": {},
   "outputs": [],
   "source": [
    "from sklearn.metrics import mean_absolute_error\n",
    "from sklearn.metrics import mean_squared_error\n",
    "import numpy as np"
   ]
  },
  {
   "cell_type": "code",
   "execution_count": null,
   "metadata": {},
   "outputs": [],
   "source": [
    "print('Error:-')\n",
    "print('MeanAbsoluteError:',mean_absolute_error(y_test,pred_ls))\n",
    "print('MeanSquaredError:',mean_squared_error(y_test,pred_ls))\n",
    "print('RootMeanSquareError:',np.sqrt(mean_squared_error(y_test,pred_ls)))"
   ]
  },
  {
   "cell_type": "code",
   "execution_count": null,
   "metadata": {},
   "outputs": [],
   "source": [
    "plt.figure(figsize=(8,6))\n",
    "plt.scatter(x=y_test,y=pred_ls,color='r')\n",
    "plt.plot(y_test,y_test,color='b')\n",
    "plt.xlabel(\"Actual Sales of Avacados\",fontsize=14)\n",
    "plt.ylabel(\"Predicted Sales of Avacados\",fontsize=14)\n",
    "plt.title(\"LassoRegression\",fontsize=18)\n",
    "plt.show()"
   ]
  },
  {
   "cell_type": "code",
   "execution_count": null,
   "metadata": {},
   "outputs": [],
   "source": [
    "#DecisionTreeRegressor"
   ]
  },
  {
   "cell_type": "code",
   "execution_count": null,
   "metadata": {},
   "outputs": [],
   "source": [
    "from sklearn.tree import DecisionTreeRegressor\n",
    "parameters={'criterion':['mse','friedman_mse','mae'],'splitter':['best','random']}\n",
    "dt=DecisionTreeRegressor()\n",
    "clf=GridSearchCV(dt,parameters)\n",
    "clf.fit(x_train,y_train)\n",
    "\n",
    "print(clf.best_params_)"
   ]
  },
  {
   "cell_type": "code",
   "execution_count": null,
   "metadata": {},
   "outputs": [],
   "source": [
    "dt=DecisionTreeRegressor(criterion='friedman_mse',splitter='random')\n",
    "dt.fit(x_train,y_train)\n",
    "dt.score(x_train,y_train)\n",
    "pred_decision=dt.predict(x_test)\n",
    "\n",
    "dts=r2_score(y_test,pred_decision)\n",
    "print('R2 Score:',dts*100)\n",
    "\n",
    "dtscore=cross_val_score(dt,x,y,cv=5)\n",
    "dtc=dtscore.mean()\n",
    "print('cross val score:',dtc*100)"
   ]
  },
  {
   "cell_type": "code",
   "execution_count": null,
   "metadata": {},
   "outputs": [],
   "source": [
    "print('Error:-')\n",
    "print('MeanAbsoluteError:',mean_absolute_error(y_test,pred_decision))\n",
    "print('MeanSquaredError:',mean_squared_error(y_test,pred_decision))\n",
    "print('RootMeanSquareError:',np.sqrt(mean_squared_error(y_test,pred_decision)))"
   ]
  },
  {
   "cell_type": "code",
   "execution_count": null,
   "metadata": {},
   "outputs": [],
   "source": [
    "plt.figure(figsize=(8,6))\n",
    "plt.scatter(x=y_test,y=pred_decision,color='r')\n",
    "plt.plot(y_test,y_test,color='b')\n",
    "plt.xlabel(\"Actual Sales of Avacados\",fontsize=14)\n",
    "plt.ylabel(\"Predicted Sales of Avacados\",fontsize=14)\n",
    "plt.title(\"DecisionTreeRegressor\",fontsize=18)\n",
    "plt.show()"
   ]
  },
  {
   "cell_type": "code",
   "execution_count": null,
   "metadata": {},
   "outputs": [],
   "source": [
    "#GradientBoostingRegressor"
   ]
  },
  {
   "cell_type": "code",
   "execution_count": 71,
   "metadata": {},
   "outputs": [
    {
     "name": "stdout",
     "output_type": "stream",
     "text": [
      "{'criterion': 'friedman_mse', 'loss': 'ls', 'n_estimators': 200}\n"
     ]
    }
   ],
   "source": [
    "from sklearn.datasets import make_regression\n",
    "from sklearn.ensemble import GradientBoostingRegressor\n",
    "parameters={'loss':['ls','lad','huber','quantile'],'n_estimators':[50,100,200],'criterion':['friedman_mse','mse']}\n",
    "gbr=GradientBoostingRegressor()\n",
    "clf=GridSearchCV(gbr,parameters)\n",
    "clf.fit(x_train,y_train)\n",
    "                         \n",
    "print(clf.best_params_)"
   ]
  },
  {
   "cell_type": "code",
   "execution_count": 70,
   "metadata": {},
   "outputs": [
    {
     "ename": "NameError",
     "evalue": "name 'GradientBoostingRegressor' is not defined",
     "output_type": "error",
     "traceback": [
      "\u001b[1;31m---------------------------------------------------------------------------\u001b[0m",
      "\u001b[1;31mNameError\u001b[0m                                 Traceback (most recent call last)",
      "\u001b[1;32m<ipython-input-70-ae8a8d23af4e>\u001b[0m in \u001b[0;36m<module>\u001b[1;34m\u001b[0m\n\u001b[1;32m----> 1\u001b[1;33m \u001b[0mgbr\u001b[0m\u001b[1;33m=\u001b[0m\u001b[0mGradientBoostingRegressor\u001b[0m\u001b[1;33m(\u001b[0m\u001b[0mcriterion\u001b[0m\u001b[1;33m=\u001b[0m\u001b[1;34m'friedman_mse'\u001b[0m\u001b[1;33m,\u001b[0m\u001b[0mloss\u001b[0m\u001b[1;33m=\u001b[0m\u001b[1;34m'ls'\u001b[0m\u001b[1;33m,\u001b[0m\u001b[0mn_estimators\u001b[0m\u001b[1;33m=\u001b[0m\u001b[1;36m200\u001b[0m\u001b[1;33m)\u001b[0m\u001b[1;33m\u001b[0m\u001b[1;33m\u001b[0m\u001b[0m\n\u001b[0m\u001b[0;32m      2\u001b[0m \u001b[0mgbr\u001b[0m\u001b[1;33m.\u001b[0m\u001b[0mfit\u001b[0m\u001b[1;33m(\u001b[0m\u001b[0mx_train\u001b[0m\u001b[1;33m,\u001b[0m\u001b[0my_train\u001b[0m\u001b[1;33m)\u001b[0m\u001b[1;33m\u001b[0m\u001b[1;33m\u001b[0m\u001b[0m\n\u001b[0;32m      3\u001b[0m \u001b[0mgbr\u001b[0m\u001b[1;33m.\u001b[0m\u001b[0mscore\u001b[0m\u001b[1;33m(\u001b[0m\u001b[0mx_train\u001b[0m\u001b[1;33m,\u001b[0m\u001b[0my_train\u001b[0m\u001b[1;33m)\u001b[0m\u001b[1;33m\u001b[0m\u001b[1;33m\u001b[0m\u001b[0m\n\u001b[0;32m      4\u001b[0m \u001b[0mpred_gbr\u001b[0m\u001b[1;33m=\u001b[0m\u001b[0mgbr\u001b[0m\u001b[1;33m.\u001b[0m\u001b[0mpredict\u001b[0m\u001b[1;33m(\u001b[0m\u001b[0mx_test\u001b[0m\u001b[1;33m)\u001b[0m\u001b[1;33m\u001b[0m\u001b[1;33m\u001b[0m\u001b[0m\n\u001b[0;32m      5\u001b[0m \u001b[1;33m\u001b[0m\u001b[0m\n",
      "\u001b[1;31mNameError\u001b[0m: name 'GradientBoostingRegressor' is not defined"
     ]
    }
   ],
   "source": [
    "gbr=GradientBoostingRegressor(criterion='friedman_mse',loss='ls',n_estimators=200)\n",
    "gbr.fit(x_train,y_train)\n",
    "gbr.score(x_train,y_train)\n",
    "pred_gbr=gbr.predict(x_test)\n",
    "\n",
    "gbrs=r2_score(y_test,pred_gbr)\n",
    "print('R2 SCORE',gbrs*100)\n",
    "\n",
    "gbscore=cross_val_score(gbr,x,y,cv=5)\n",
    "gbrc=gbscore.mean()\n",
    "print('CrossValScore:',gbrc*100)"
   ]
  },
  {
   "cell_type": "code",
   "execution_count": null,
   "metadata": {},
   "outputs": [],
   "source": [
    "print('Error:-')\n",
    "print('MeanAbsoluteError:',mean_absolute_error(y_test,pred_gbr))\n",
    "print('MeanSquaredError:',mean_squared_error(y_test,pred_gbr))\n",
    "print('RootMeanSquareError:',np.sqrt(mean_squared_error(y_test,pred_gbr)))"
   ]
  },
  {
   "cell_type": "code",
   "execution_count": null,
   "metadata": {},
   "outputs": [],
   "source": [
    "plt.figure(figsize=(8,6))\n",
    "plt.scatter(x=y_test,y=pred_gbr,color='r')\n",
    "plt.plot(y_test,y_test,color='b')\n",
    "plt.xlabel(\"Actual sales of Avacados\",fontsize=14)\n",
    "plt.ylabel(\"Predicted sales of Avacados\",fontsize=14)\n",
    "plt.title(\"GradientBoostingRegressor\",fontsize=18)\n",
    "plt.show()"
   ]
  },
  {
   "cell_type": "code",
   "execution_count": null,
   "metadata": {},
   "outputs": [],
   "source": [
    "#AdaBoostRegressor"
   ]
  },
  {
   "cell_type": "code",
   "execution_count": 48,
   "metadata": {},
   "outputs": [
    {
     "name": "stdout",
     "output_type": "stream",
     "text": [
      "{'base_estimator': None, 'learning_rate': 2.0, 'loss': 'square', 'n_estimators': 100, 'random_state': 50}\n"
     ]
    }
   ],
   "source": [
    "from sklearn.ensemble import AdaBoostRegressor\n",
    "ADB=AdaBoostRegressor()\n",
    "parameters={'base_estimator':[None], 'learning_rate':[1.0,2.0], 'loss':['linear','square','exponential'],'n_estimators':[50,100],'random_state':[50]}\n",
    "ADB=AdaBoostRegressor()\n",
    "clf=GridSearchCV(ADB,parameters)\n",
    "clf.fit(x_train,y_train)\n",
    "                         \n",
    "print(clf.best_params_)"
   ]
  },
  {
   "cell_type": "code",
   "execution_count": 59,
   "metadata": {},
   "outputs": [
    {
     "name": "stdout",
     "output_type": "stream",
     "text": [
      "R2 Score: 52.972530883030736\n",
      "cross val score: -10.026454042877688\n"
     ]
    }
   ],
   "source": [
    "ADB=AdaBoostRegressor(base_estimator=None,learning_rate=2.0,loss='square',n_estimators=100,random_state=50)\n",
    "ADB.fit(x_train,y_train)\n",
    "ADB.score(x_train,y_train)\n",
    "pred_ADB=ADB.predict(x_test)\n",
    "\n",
    "ADBS=r2_score(y_test,pred_ADB)\n",
    "print('R2 Score:',ADBS*100)\n",
    "\n",
    "ADBSscore=cross_val_score(ADB,x,y,cv=5)\n",
    "ADBC=ADBSscore.mean()\n",
    "print('cross val score:',ADBC*100)"
   ]
  },
  {
   "cell_type": "code",
   "execution_count": 62,
   "metadata": {},
   "outputs": [
    {
     "name": "stdout",
     "output_type": "stream",
     "text": [
      "Error:-\n",
      "MeanAbsoluteError: 21.860112420442036\n",
      "MeanSquaredError: 716.7222226748387\n",
      "RootMeanSquareError: 26.771668283370737\n"
     ]
    }
   ],
   "source": [
    "print('Error:-')\n",
    "print('MeanAbsoluteError:',mean_absolute_error(y_test,pred_ADB))\n",
    "print('MeanSquaredError:',mean_squared_error(y_test,pred_ADB))\n",
    "print('RootMeanSquareError:',np.sqrt(mean_squared_error(y_test,pred_ADB)))"
   ]
  },
  {
   "cell_type": "code",
   "execution_count": 64,
   "metadata": {},
   "outputs": [
    {
     "data": {
      "image/png": "[encoded data removed]",
      "text/plain": [
       "<Figure size 576x432 with 1 Axes>"
      ]
     },
     "metadata": {
      "needs_background": "light"
     },
     "output_type": "display_data"
    }
   ],
   "source": [
    "plt.figure(figsize=(8,6))\n",
    "\n",
    "plt.scatter(x=y_test,y=pred_ADB,color='r')\n",
    "plt.plot(y_test,y_test,color='b')\n",
    "plt.xlabel(\"Actual sales of Avacados\",fontsize=14)\n",
    "plt.ylabel(\"Predicted sales of Avacados\",fontsize=14)\n",
    "plt.title(\"AdaBoostRegressor\",fontsize=18)\n",
    "plt.show()\n"
   ]
  },
  {
   "cell_type": "code",
   "execution_count": 65,
   "metadata": {},
   "outputs": [],
   "source": [
    "#SGD Regressor"
   ]
  },
  {
   "cell_type": "code",
   "execution_count": 66,
   "metadata": {},
   "outputs": [
    {
     "name": "stdout",
     "output_type": "stream",
     "text": [
      "{'alpha': 0.0001, 'epsilon': 0.01, 'max_iter': 1000, 'penalty': 'elasticnet', 'tol': 0.001}\n"
     ]
    }
   ],
   "source": [
    "from sklearn.linear_model import SGDRegressor\n",
    "parameters={'alpha':[0.0001,0.001,0.01,0.1],'epsilon':[0.01,0.1],'penalty':['elasticnet'],'max_iter':[1000],'tol':[1e-3]}\n",
    "SGD=SGDRegressor()\n",
    "clf=GridSearchCV(SGD,parameters)\n",
    "clf.fit(x_train,y_train)\n",
    "                         \n",
    "print(clf.best_params_)"
   ]
  },
  {
   "cell_type": "code",
   "execution_count": 67,
   "metadata": {},
   "outputs": [
    {
     "name": "stdout",
     "output_type": "stream",
     "text": [
      "Accuracy=56.37829007177883,Cross_Val_score=53.33304497537623and difference=3.0452450964025957\n"
     ]
    }
   ],
   "source": [
    "SGD=SGDRegressor(alpha=0.0001,epsilon=0.01,max_iter=1000,penalty='elasticnet',tol=0.001)\n",
    "SGD.fit(x_train,y_train)\n",
    "pred_SGD=SGD.predict(x_test)\n",
    "r2score=r2_score(y_test,y_pred)\n",
    "cvscore=cross_val_score(SGDRegressor(),x_train,y_train,cv=5).mean()\n",
    "\n",
    "print(f\"Accuracy={r2score*100},Cross_Val_score={cvscore*100}and difference={(r2score*100)-(cvscore*100)}\")"
   ]
  },
  {
   "cell_type": "code",
   "execution_count": 68,
   "metadata": {},
   "outputs": [
    {
     "name": "stdout",
     "output_type": "stream",
     "text": [
      "Error:-\n",
      "MeanAbsoluteError: 20.499232809192343\n",
      "MeanSquaredError: 666.0200126767417\n",
      "RootMeanSquareError: 25.80736353595116\n"
     ]
    }
   ],
   "source": [
    "print('Error:-')\n",
    "print('MeanAbsoluteError:',mean_absolute_error(y_test,pred_SGD))\n",
    "print('MeanSquaredError:',mean_squared_error(y_test,pred_SGD))\n",
    "print('RootMeanSquareError:',np.sqrt(mean_squared_error(y_test,pred_SGD)))"
   ]
  },
  {
   "cell_type": "code",
   "execution_count": 69,
   "metadata": {},
   "outputs": [
    {
     "data": {
      "image/png": "[encoded data removed]",
      "text/plain": [
       "<Figure size 576x432 with 1 Axes>"
      ]
     },
     "metadata": {
      "needs_background": "light"
     },
     "output_type": "display_data"
    }
   ],
   "source": [
    "plt.figure(figsize=(8,6))\n",
    "plt.scatter(x=y_test,y=pred_SGD,color='r')\n",
    "plt.plot(y_test,y_test,color='b')\n",
    "plt.xlabel(\"Actual sales of Avacados\",fontsize=14)\n",
    "plt.ylabel(\"Predicted sales of Avacados\",fontsize=14)\n",
    "plt.title(\"SGDRegressor\",fontsize=18)\n",
    "plt.show()"
   ]
  },
  {
   "cell_type": "code",
   "execution_count": 74,
   "metadata": {},
   "outputs": [
    {
     "name": "stdout",
     "output_type": "stream",
     "text": [
      "Final accuracy: 56.23073385958119\n"
     ]
    },
    {
     "data": {
      "text/plain": [
       "<bound method BaseSearchCV.fit of GridSearchCV(estimator=GradientBoostingRegressor(),\n",
       "             param_grid={'criterion': ['friedman_mse', 'mse'],\n",
       "                         'loss': ['ls', 'lad', 'huber', 'quantile'],\n",
       "                         'n_estimators': [50, 100, 200]})>"
      ]
     },
     "execution_count": 74,
     "metadata": {},
     "output_type": "execute_result"
    }
   ],
   "source": [
    "parameters={\"alpha\":[0.0001,0.001,0.01,0.1,1,10],\"epsilon\":[0.01,0.1],'max_iter':[1000],'tol':[1e-3]}\n",
    "\n",
    "from sklearn.model_selection import GridSearchCV\n",
    "\n",
    "GCV=GridSearchCV(SGDRegressor(),parameters,cv=5,scoring='r2')\n",
    "\n",
    "GCV.fit(x_train,y_train)\n",
    "GCV.best_estimator_\n",
    "GCV_pred=GCV.best_estimator_.predict(x_test)\n",
    "\n",
    "\n",
    "print(\"Final accuracy:\",r2_score(y_test,GCV_pred)*100)\n",
    "clf.fit"
   ]
  },
  {
   "cell_type": "markdown",
   "metadata": {},
   "source": [
    "THE BEST MODEL IS SGD\n",
    "the maximum accuracy inthis model is not increasing above 56.23%,we can derive more accuracy with higher data"
   ]
  },
  {
   "cell_type": "code",
   "execution_count": null,
   "metadata": {},
   "outputs": [],
   "source": []
  },
  {
   "cell_type": "markdown",
   "metadata": {},
   "source": [
    "SERIALIZTION "
   ]
  },
  {
   "cell_type": "code",
   "execution_count": 143,
   "metadata": {},
   "outputs": [],
   "source": [
    "import pickle\n",
    "filename='inhouse_avacadoproject.pkl'"
   ]
  },
  {
   "cell_type": "code",
   "execution_count": 144,
   "metadata": {},
   "outputs": [],
   "source": [
    "pickle.dump(SGD,open(filename,'wb'))"
   ]
  },
  {
   "cell_type": "markdown",
   "metadata": {},
   "source": [
    "CONCLUSION"
   ]
  },
  {
   "cell_type": "code",
   "execution_count": 145,
   "metadata": {},
   "outputs": [],
   "source": [
    "import numpy as np\n",
    "a=np.array(y_test)\n",
    "predicted=np.array(SGD.predict(x_test))"
   ]
  },
  {
   "cell_type": "code",
   "execution_count": 148,
   "metadata": {},
   "outputs": [],
   "source": [
    "df_final=pd.DataFrame({\"original\":a,\"predicted\":predicted},index=range(len(a)))"
   ]
  },
  {
   "cell_type": "code",
   "execution_count": 149,
   "metadata": {},
   "outputs": [
    {
     "data": {
      "text/html": [
       "<div>\n",
       "<style scoped>\n",
       "    .dataframe tbody tr th:only-of-type {\n",
       "        vertical-align: middle;\n",
       "    }\n",
       "\n",
       "    .dataframe tbody tr th {\n",
       "        vertical-align: top;\n",
       "    }\n",
       "\n",
       "    .dataframe thead th {\n",
       "        text-align: right;\n",
       "    }\n",
       "</style>\n",
       "<table border=\"1\" class=\"dataframe\">\n",
       "  <thead>\n",
       "    <tr style=\"text-align: right;\">\n",
       "      <th></th>\n",
       "      <th>original</th>\n",
       "      <th>predicted</th>\n",
       "    </tr>\n",
       "  </thead>\n",
       "  <tbody>\n",
       "    <tr>\n",
       "      <th>0</th>\n",
       "      <td>168</td>\n",
       "      <td>137.847442</td>\n",
       "    </tr>\n",
       "    <tr>\n",
       "      <th>1</th>\n",
       "      <td>91</td>\n",
       "      <td>135.598292</td>\n",
       "    </tr>\n",
       "    <tr>\n",
       "      <th>2</th>\n",
       "      <td>93</td>\n",
       "      <td>70.252743</td>\n",
       "    </tr>\n",
       "    <tr>\n",
       "      <th>3</th>\n",
       "      <td>53</td>\n",
       "      <td>75.471433</td>\n",
       "    </tr>\n",
       "    <tr>\n",
       "      <th>4</th>\n",
       "      <td>71</td>\n",
       "      <td>76.558179</td>\n",
       "    </tr>\n",
       "    <tr>\n",
       "      <th>...</th>\n",
       "      <td>...</td>\n",
       "      <td>...</td>\n",
       "    </tr>\n",
       "    <tr>\n",
       "      <th>3562</th>\n",
       "      <td>114</td>\n",
       "      <td>119.469715</td>\n",
       "    </tr>\n",
       "    <tr>\n",
       "      <th>3563</th>\n",
       "      <td>136</td>\n",
       "      <td>91.901578</td>\n",
       "    </tr>\n",
       "    <tr>\n",
       "      <th>3564</th>\n",
       "      <td>95</td>\n",
       "      <td>83.565612</td>\n",
       "    </tr>\n",
       "    <tr>\n",
       "      <th>3565</th>\n",
       "      <td>105</td>\n",
       "      <td>140.037953</td>\n",
       "    </tr>\n",
       "    <tr>\n",
       "      <th>3566</th>\n",
       "      <td>101</td>\n",
       "      <td>105.607996</td>\n",
       "    </tr>\n",
       "  </tbody>\n",
       "</table>\n",
       "<p>3567 rows × 2 columns</p>\n",
       "</div>"
      ],
      "text/plain": [
       "      original   predicted\n",
       "0          168  137.847442\n",
       "1           91  135.598292\n",
       "2           93   70.252743\n",
       "3           53   75.471433\n",
       "4           71   76.558179\n",
       "...        ...         ...\n",
       "3562       114  119.469715\n",
       "3563       136   91.901578\n",
       "3564        95   83.565612\n",
       "3565       105  140.037953\n",
       "3566       101  105.607996\n",
       "\n",
       "[3567 rows x 2 columns]"
      ]
     },
     "execution_count": 149,
     "metadata": {},
     "output_type": "execute_result"
    }
   ],
   "source": [
    "df_final"
   ]
  },
  {
   "cell_type": "markdown",
   "metadata": {},
   "source": [
    "From the above table the model is predicted the values with 50-56% accuracy"
   ]
  },
  {
   "cell_type": "code",
   "execution_count": null,
   "metadata": {},
   "outputs": [],
   "source": []
  }
 ],
 "metadata": {
  "kernelspec": {
   "display_name": "Python 3",
   "language": "python",
   "name": "python3"
  },
  "language_info": {
   "codemirror_mode": {
    "name": "ipython",
    "version": 3
   },
   "file_extension": ".py",
   "mimetype": "text/x-python",
   "name": "python",
   "nbconvert_exporter": "python",
   "pygments_lexer": "ipython3",
   "version": "3.8.3"
  }
 },
 "nbformat": 4,
 "nbformat_minor": 4
}
